{
 "cells": [
  {
   "cell_type": "markdown",
   "id": "59324f85",
   "metadata": {},
   "source": [
    "## Dimitrios Georgilis - 300356614\n",
    "## Vancouver Land Value Machine Learning Prediction\n",
    "## References:\n",
    "- Dataset: https://opendata.vancouver.ca/explore/dataset/property-tax-report/analyze/?dataChart=eyJxdWVyaWVzIjpbeyJjb25maWciOnsiZGF0YXNldCI6InByb3BlcnR5LXRheC1yZXBvcnQiLCJvcHRpb25zIjp7fX0sImNoYXJ0cyI6W3siYWxpZ25Nb250aCI6dHJ1ZSwidHlwZSI6ImNvbHVtbiIsImZ1bmMiOiJBVkciLCJ5QXhpcyI6ImN1cnJlbnRfbGFuZF92YWx1ZSIsInNjaWVudGlmaWNEaXNwbGF5Ijp0cnVlLCJjb2xvciI6IiMwMjc5QjEifV0sInhBeGlzIjoibGVnYWxfdHlwZSIsIm1heHBvaW50cyI6NTAsInNvcnQiOiIifV0sInRpbWVzY2FsZSI6IiIsImRpc3BsYXlMZWdlbmQiOnRydWUsImFsaWduTW9udGgiOnRydWV9\n",
    "- Zoning_district: https://vancouver.ca/files/cov/zoning-and-development-by-law-user-guide.pdf\n",
    "- Blackboard-Lectures-demoCodes-Labs\n",
    "- Python Documentation\n",
    "- https://scikit-learn.org/"
   ]
  },
  {
   "cell_type": "markdown",
   "id": "dccc5c99",
   "metadata": {},
   "source": [
    "### Import Libraries"
   ]
  },
  {
   "cell_type": "code",
   "execution_count": 1,
   "id": "d74193c8",
   "metadata": {},
   "outputs": [],
   "source": [
    "import pandas as pd\n",
    "import numpy as np\n",
    "import seaborn as sns\n",
    "import matplotlib.pyplot as plt\n",
    "from scipy.stats import norm\n",
    "from sklearn.feature_selection import VarianceThreshold\n",
    "from sklearn.feature_selection import SelectKBest\n",
    "from sklearn.feature_selection import f_regression\n",
    "from sklearn.model_selection import train_test_split\n",
    "from sklearn.linear_model import LinearRegression\n",
    "from sklearn.preprocessing import MinMaxScaler, StandardScaler, RobustScaler\n",
    "from sklearn.metrics import mean_squared_error\n",
    "from sklearn.preprocessing import PolynomialFeatures\n",
    "from sklearn.linear_model import Ridge, Lasso \n",
    "from sklearn.ensemble import RandomForestClassifier\n",
    "from sklearn.feature_selection import SelectFromModel\n",
    "from sklearn.metrics import accuracy_score\n",
    "from sklearn.tree import DecisionTreeRegressor\n",
    "from sklearn.ensemble import GradientBoostingRegressor\n",
    "from sklearn.ensemble import RandomForestRegressor\n",
    "from sklearn.ensemble import AdaBoostRegressor\n",
    "from xgboost import XGBRegressor\n",
    "from sklearn.linear_model import SGDRegressor\n",
    "from sklearn.pipeline import Pipeline"
   ]
  },
  {
   "cell_type": "markdown",
   "id": "6d9f4ea2",
   "metadata": {},
   "source": [
    "### Read The dataset"
   ]
  },
  {
   "cell_type": "code",
   "execution_count": 2,
   "id": "da17a7a4",
   "metadata": {},
   "outputs": [
    {
     "data": {
      "text/html": [
       "<div>\n",
       "<style scoped>\n",
       "    .dataframe tbody tr th:only-of-type {\n",
       "        vertical-align: middle;\n",
       "    }\n",
       "\n",
       "    .dataframe tbody tr th {\n",
       "        vertical-align: top;\n",
       "    }\n",
       "\n",
       "    .dataframe thead th {\n",
       "        text-align: right;\n",
       "    }\n",
       "</style>\n",
       "<table border=\"1\" class=\"dataframe\">\n",
       "  <thead>\n",
       "    <tr style=\"text-align: right;\">\n",
       "      <th></th>\n",
       "      <th>PID</th>\n",
       "      <th>LEGAL_TYPE</th>\n",
       "      <th>FOLIO</th>\n",
       "      <th>LAND_COORDINATE</th>\n",
       "      <th>ZONING_DISTRICT</th>\n",
       "      <th>ZONING_CLASSIFICATION</th>\n",
       "      <th>LOT</th>\n",
       "      <th>PLAN</th>\n",
       "      <th>BLOCK</th>\n",
       "      <th>DISTRICT_LOT</th>\n",
       "      <th>...</th>\n",
       "      <th>CURRENT_LAND_VALUE</th>\n",
       "      <th>CURRENT_IMPROVEMENT_VALUE</th>\n",
       "      <th>TAX_ASSESSMENT_YEAR</th>\n",
       "      <th>PREVIOUS_LAND_VALUE</th>\n",
       "      <th>PREVIOUS_IMPROVEMENT_VALUE</th>\n",
       "      <th>YEAR_BUILT</th>\n",
       "      <th>BIG_IMPROVEMENT_YEAR</th>\n",
       "      <th>TAX_LEVY</th>\n",
       "      <th>NEIGHBOURHOOD_CODE</th>\n",
       "      <th>REPORT_YEAR</th>\n",
       "    </tr>\n",
       "  </thead>\n",
       "  <tbody>\n",
       "    <tr>\n",
       "      <th>0</th>\n",
       "      <td>008-144-311</td>\n",
       "      <td>LAND</td>\n",
       "      <td>721199700000</td>\n",
       "      <td>72119970</td>\n",
       "      <td>RS-1</td>\n",
       "      <td>One-Family Dwelling</td>\n",
       "      <td>8</td>\n",
       "      <td>VAP1220</td>\n",
       "      <td>202</td>\n",
       "      <td>NaN</td>\n",
       "      <td>...</td>\n",
       "      <td>1808000.0</td>\n",
       "      <td>88300.0</td>\n",
       "      <td>2022.0</td>\n",
       "      <td>1598000.0</td>\n",
       "      <td>76900.0</td>\n",
       "      <td>1974.0</td>\n",
       "      <td>1974.0</td>\n",
       "      <td>6919.60</td>\n",
       "      <td>16</td>\n",
       "      <td>2022</td>\n",
       "    </tr>\n",
       "    <tr>\n",
       "      <th>1</th>\n",
       "      <td>010-830-316</td>\n",
       "      <td>LAND</td>\n",
       "      <td>723197350000</td>\n",
       "      <td>72319735</td>\n",
       "      <td>RS-1</td>\n",
       "      <td>One-Family Dwelling</td>\n",
       "      <td>12</td>\n",
       "      <td>VAP2558</td>\n",
       "      <td>10</td>\n",
       "      <td>391</td>\n",
       "      <td>...</td>\n",
       "      <td>1771000.0</td>\n",
       "      <td>156000.0</td>\n",
       "      <td>2022.0</td>\n",
       "      <td>1597000.0</td>\n",
       "      <td>137000.0</td>\n",
       "      <td>1912.0</td>\n",
       "      <td>1980.0</td>\n",
       "      <td>7028.28</td>\n",
       "      <td>16</td>\n",
       "      <td>2022</td>\n",
       "    </tr>\n",
       "    <tr>\n",
       "      <th>2</th>\n",
       "      <td>013-845-632</td>\n",
       "      <td>LAND</td>\n",
       "      <td>190758120000</td>\n",
       "      <td>19075812</td>\n",
       "      <td>RT-2</td>\n",
       "      <td>Two-Family Dwelling</td>\n",
       "      <td>27</td>\n",
       "      <td>VAP2324</td>\n",
       "      <td>5</td>\n",
       "      <td>647</td>\n",
       "      <td>...</td>\n",
       "      <td>1189000.0</td>\n",
       "      <td>314000.0</td>\n",
       "      <td>2022.0</td>\n",
       "      <td>1118000.0</td>\n",
       "      <td>283000.0</td>\n",
       "      <td>2005.0</td>\n",
       "      <td>2005.0</td>\n",
       "      <td>5796.46</td>\n",
       "      <td>16</td>\n",
       "      <td>2022</td>\n",
       "    </tr>\n",
       "    <tr>\n",
       "      <th>3</th>\n",
       "      <td>006-703-836</td>\n",
       "      <td>LAND</td>\n",
       "      <td>212735430000</td>\n",
       "      <td>21273543</td>\n",
       "      <td>RS-1</td>\n",
       "      <td>One-Family Dwelling</td>\n",
       "      <td>28</td>\n",
       "      <td>VAP1369</td>\n",
       "      <td>4</td>\n",
       "      <td>NaN</td>\n",
       "      <td>...</td>\n",
       "      <td>1511000.0</td>\n",
       "      <td>86700.0</td>\n",
       "      <td>2022.0</td>\n",
       "      <td>1292000.0</td>\n",
       "      <td>76100.0</td>\n",
       "      <td>1965.0</td>\n",
       "      <td>1970.0</td>\n",
       "      <td>6090.50</td>\n",
       "      <td>16</td>\n",
       "      <td>2022</td>\n",
       "    </tr>\n",
       "    <tr>\n",
       "      <th>4</th>\n",
       "      <td>007-476-604</td>\n",
       "      <td>LAND</td>\n",
       "      <td>637025770000</td>\n",
       "      <td>63702577</td>\n",
       "      <td>RS-1</td>\n",
       "      <td>One-Family Dwelling</td>\n",
       "      <td>A</td>\n",
       "      <td>VAP16533</td>\n",
       "      <td>138</td>\n",
       "      <td>540</td>\n",
       "      <td>...</td>\n",
       "      <td>4715000.0</td>\n",
       "      <td>257000.0</td>\n",
       "      <td>2022.0</td>\n",
       "      <td>4201000.0</td>\n",
       "      <td>263000.0</td>\n",
       "      <td>1925.0</td>\n",
       "      <td>1986.0</td>\n",
       "      <td>21077.20</td>\n",
       "      <td>1</td>\n",
       "      <td>2022</td>\n",
       "    </tr>\n",
       "  </tbody>\n",
       "</table>\n",
       "<p>5 rows × 29 columns</p>\n",
       "</div>"
      ],
      "text/plain": [
       "           PID LEGAL_TYPE         FOLIO  LAND_COORDINATE ZONING_DISTRICT  \\\n",
       "0  008-144-311       LAND  721199700000         72119970            RS-1   \n",
       "1  010-830-316       LAND  723197350000         72319735            RS-1   \n",
       "2  013-845-632       LAND  190758120000         19075812            RT-2   \n",
       "3  006-703-836       LAND  212735430000         21273543            RS-1   \n",
       "4  007-476-604       LAND  637025770000         63702577            RS-1   \n",
       "\n",
       "  ZONING_CLASSIFICATION LOT      PLAN BLOCK DISTRICT_LOT  ...  \\\n",
       "0   One-Family Dwelling   8   VAP1220   202          NaN  ...   \n",
       "1   One-Family Dwelling  12   VAP2558    10          391  ...   \n",
       "2   Two-Family Dwelling  27   VAP2324     5          647  ...   \n",
       "3   One-Family Dwelling  28   VAP1369     4          NaN  ...   \n",
       "4   One-Family Dwelling   A  VAP16533   138          540  ...   \n",
       "\n",
       "  CURRENT_LAND_VALUE  CURRENT_IMPROVEMENT_VALUE TAX_ASSESSMENT_YEAR  \\\n",
       "0          1808000.0                    88300.0              2022.0   \n",
       "1          1771000.0                   156000.0              2022.0   \n",
       "2          1189000.0                   314000.0              2022.0   \n",
       "3          1511000.0                    86700.0              2022.0   \n",
       "4          4715000.0                   257000.0              2022.0   \n",
       "\n",
       "  PREVIOUS_LAND_VALUE PREVIOUS_IMPROVEMENT_VALUE YEAR_BUILT  \\\n",
       "0           1598000.0                    76900.0     1974.0   \n",
       "1           1597000.0                   137000.0     1912.0   \n",
       "2           1118000.0                   283000.0     2005.0   \n",
       "3           1292000.0                    76100.0     1965.0   \n",
       "4           4201000.0                   263000.0     1925.0   \n",
       "\n",
       "  BIG_IMPROVEMENT_YEAR  TAX_LEVY NEIGHBOURHOOD_CODE  REPORT_YEAR  \n",
       "0               1974.0   6919.60                 16         2022  \n",
       "1               1980.0   7028.28                 16         2022  \n",
       "2               2005.0   5796.46                 16         2022  \n",
       "3               1970.0   6090.50                 16         2022  \n",
       "4               1986.0  21077.20                  1         2022  \n",
       "\n",
       "[5 rows x 29 columns]"
      ]
     },
     "execution_count": 2,
     "metadata": {},
     "output_type": "execute_result"
    }
   ],
   "source": [
    "df = pd.read_csv(\"Dataset\\property-tax-report.csv\", sep=\";\")\n",
    "df.head()"
   ]
  },
  {
   "cell_type": "code",
   "execution_count": 4,
   "id": "df5a2473",
   "metadata": {},
   "outputs": [
    {
     "data": {
      "text/plain": [
       "PID                           218148\n",
       "LEGAL_TYPE                    218697\n",
       "FOLIO                         218697\n",
       "LAND_COORDINATE               218697\n",
       "ZONING_DISTRICT               218691\n",
       "ZONING_CLASSIFICATION         218691\n",
       "LOT                           217179\n",
       "PLAN                          218479\n",
       "BLOCK                          88476\n",
       "DISTRICT_LOT                  207921\n",
       "FROM_CIVIC_NUMBER             110134\n",
       "TO_CIVIC_NUMBER               218130\n",
       "STREET_NAME                   218548\n",
       "PROPERTY_POSTAL_CODE          216663\n",
       "NARRATIVE_LEGAL_LINE1         218602\n",
       "NARRATIVE_LEGAL_LINE2         218527\n",
       "NARRATIVE_LEGAL_LINE3         155054\n",
       "NARRATIVE_LEGAL_LINE4          75398\n",
       "NARRATIVE_LEGAL_LINE5          69048\n",
       "CURRENT_LAND_VALUE            216744\n",
       "CURRENT_IMPROVEMENT_VALUE     216744\n",
       "TAX_ASSESSMENT_YEAR           216744\n",
       "PREVIOUS_LAND_VALUE           213503\n",
       "PREVIOUS_IMPROVEMENT_VALUE    213503\n",
       "YEAR_BUILT                    216474\n",
       "BIG_IMPROVEMENT_YEAR          216474\n",
       "TAX_LEVY                      216571\n",
       "NEIGHBOURHOOD_CODE            218697\n",
       "REPORT_YEAR                   218697\n",
       "dtype: int64"
      ]
     },
     "execution_count": 4,
     "metadata": {},
     "output_type": "execute_result"
    }
   ],
   "source": [
    "df.count()"
   ]
  },
  {
   "cell_type": "code",
   "execution_count": 520,
   "id": "d8bb28ac",
   "metadata": {},
   "outputs": [
    {
     "data": {
      "text/plain": [
       "PID                              549\n",
       "LEGAL_TYPE                         0\n",
       "FOLIO                              0\n",
       "LAND_COORDINATE                    0\n",
       "ZONING_DISTRICT                    6\n",
       "ZONING_CLASSIFICATION              6\n",
       "LOT                             1518\n",
       "PLAN                             218\n",
       "BLOCK                         130221\n",
       "DISTRICT_LOT                   10776\n",
       "FROM_CIVIC_NUMBER             108563\n",
       "TO_CIVIC_NUMBER                  567\n",
       "STREET_NAME                      149\n",
       "PROPERTY_POSTAL_CODE            2034\n",
       "NARRATIVE_LEGAL_LINE1             95\n",
       "NARRATIVE_LEGAL_LINE2            170\n",
       "NARRATIVE_LEGAL_LINE3          63643\n",
       "NARRATIVE_LEGAL_LINE4         143299\n",
       "NARRATIVE_LEGAL_LINE5         149649\n",
       "CURRENT_LAND_VALUE              1953\n",
       "CURRENT_IMPROVEMENT_VALUE       1953\n",
       "TAX_ASSESSMENT_YEAR             1953\n",
       "PREVIOUS_LAND_VALUE             5194\n",
       "PREVIOUS_IMPROVEMENT_VALUE      5194\n",
       "YEAR_BUILT                      2223\n",
       "BIG_IMPROVEMENT_YEAR            2223\n",
       "TAX_LEVY                        2126\n",
       "NEIGHBOURHOOD_CODE                 0\n",
       "REPORT_YEAR                        0\n",
       "dtype: int64"
      ]
     },
     "execution_count": 520,
     "metadata": {},
     "output_type": "execute_result"
    }
   ],
   "source": [
    "df.isnull().sum()"
   ]
  },
  {
   "cell_type": "markdown",
   "id": "62326653",
   "metadata": {},
   "source": [
    "### Data Preperation"
   ]
  },
  {
   "cell_type": "markdown",
   "id": "079213b9",
   "metadata": {},
   "source": [
    "#### Drop unecessary columns"
   ]
  },
  {
   "cell_type": "code",
   "execution_count": 521,
   "id": "1e71e1ca",
   "metadata": {},
   "outputs": [],
   "source": [
    "df.drop(columns = [\"REPORT_YEAR\", \"TAX_ASSESSMENT_YEAR\", \"PID\", \"FOLIO\", \"LAND_COORDINATE\" ], inplace = True)\n",
    "df.drop(columns = [\"NARRATIVE_LEGAL_LINE1\", \"NARRATIVE_LEGAL_LINE2\", \"NARRATIVE_LEGAL_LINE3\", \"NARRATIVE_LEGAL_LINE4\",\"NARRATIVE_LEGAL_LINE5\"], inplace = True)"
   ]
  },
  {
   "cell_type": "markdown",
   "id": "98d0a4b9",
   "metadata": {},
   "source": [
    "#### Split the postal"
   ]
  },
  {
   "cell_type": "code",
   "execution_count": 522,
   "id": "a356923f",
   "metadata": {},
   "outputs": [],
   "source": [
    "df[['POSTAL','CODE']] = df['PROPERTY_POSTAL_CODE'].str.split(' ',expand = True)"
   ]
  },
  {
   "cell_type": "code",
   "execution_count": 523,
   "id": "13b5d237",
   "metadata": {},
   "outputs": [],
   "source": [
    "df.drop(columns = [\"CODE\", \"PROPERTY_POSTAL_CODE\"], inplace = True)"
   ]
  },
  {
   "cell_type": "code",
   "execution_count": 524,
   "id": "eab349a3",
   "metadata": {},
   "outputs": [
    {
     "data": {
      "text/html": [
       "<div>\n",
       "<style scoped>\n",
       "    .dataframe tbody tr th:only-of-type {\n",
       "        vertical-align: middle;\n",
       "    }\n",
       "\n",
       "    .dataframe tbody tr th {\n",
       "        vertical-align: top;\n",
       "    }\n",
       "\n",
       "    .dataframe thead th {\n",
       "        text-align: right;\n",
       "    }\n",
       "</style>\n",
       "<table border=\"1\" class=\"dataframe\">\n",
       "  <thead>\n",
       "    <tr style=\"text-align: right;\">\n",
       "      <th></th>\n",
       "      <th>LEGAL_TYPE</th>\n",
       "      <th>ZONING_DISTRICT</th>\n",
       "      <th>ZONING_CLASSIFICATION</th>\n",
       "      <th>LOT</th>\n",
       "      <th>PLAN</th>\n",
       "      <th>BLOCK</th>\n",
       "      <th>DISTRICT_LOT</th>\n",
       "      <th>FROM_CIVIC_NUMBER</th>\n",
       "      <th>TO_CIVIC_NUMBER</th>\n",
       "      <th>STREET_NAME</th>\n",
       "      <th>CURRENT_LAND_VALUE</th>\n",
       "      <th>CURRENT_IMPROVEMENT_VALUE</th>\n",
       "      <th>PREVIOUS_LAND_VALUE</th>\n",
       "      <th>PREVIOUS_IMPROVEMENT_VALUE</th>\n",
       "      <th>YEAR_BUILT</th>\n",
       "      <th>BIG_IMPROVEMENT_YEAR</th>\n",
       "      <th>TAX_LEVY</th>\n",
       "      <th>NEIGHBOURHOOD_CODE</th>\n",
       "      <th>POSTAL</th>\n",
       "    </tr>\n",
       "  </thead>\n",
       "  <tbody>\n",
       "    <tr>\n",
       "      <th>0</th>\n",
       "      <td>LAND</td>\n",
       "      <td>RS-1</td>\n",
       "      <td>One-Family Dwelling</td>\n",
       "      <td>8</td>\n",
       "      <td>VAP1220</td>\n",
       "      <td>202</td>\n",
       "      <td>NaN</td>\n",
       "      <td>NaN</td>\n",
       "      <td>628.0</td>\n",
       "      <td>29TH AVE E</td>\n",
       "      <td>1808000.0</td>\n",
       "      <td>88300.0</td>\n",
       "      <td>1598000.0</td>\n",
       "      <td>76900.0</td>\n",
       "      <td>1974.0</td>\n",
       "      <td>1974.0</td>\n",
       "      <td>6919.60</td>\n",
       "      <td>16</td>\n",
       "      <td>V5V</td>\n",
       "    </tr>\n",
       "    <tr>\n",
       "      <th>1</th>\n",
       "      <td>LAND</td>\n",
       "      <td>RS-1</td>\n",
       "      <td>One-Family Dwelling</td>\n",
       "      <td>12</td>\n",
       "      <td>VAP2558</td>\n",
       "      <td>10</td>\n",
       "      <td>391</td>\n",
       "      <td>NaN</td>\n",
       "      <td>435.0</td>\n",
       "      <td>30TH AVE E</td>\n",
       "      <td>1771000.0</td>\n",
       "      <td>156000.0</td>\n",
       "      <td>1597000.0</td>\n",
       "      <td>137000.0</td>\n",
       "      <td>1912.0</td>\n",
       "      <td>1980.0</td>\n",
       "      <td>7028.28</td>\n",
       "      <td>16</td>\n",
       "      <td>V5V</td>\n",
       "    </tr>\n",
       "    <tr>\n",
       "      <th>2</th>\n",
       "      <td>LAND</td>\n",
       "      <td>RT-2</td>\n",
       "      <td>Two-Family Dwelling</td>\n",
       "      <td>27</td>\n",
       "      <td>VAP2324</td>\n",
       "      <td>5</td>\n",
       "      <td>647</td>\n",
       "      <td>NaN</td>\n",
       "      <td>6112.0</td>\n",
       "      <td>MAIN ST</td>\n",
       "      <td>1189000.0</td>\n",
       "      <td>314000.0</td>\n",
       "      <td>1118000.0</td>\n",
       "      <td>283000.0</td>\n",
       "      <td>2005.0</td>\n",
       "      <td>2005.0</td>\n",
       "      <td>5796.46</td>\n",
       "      <td>16</td>\n",
       "      <td>V5W</td>\n",
       "    </tr>\n",
       "    <tr>\n",
       "      <th>3</th>\n",
       "      <td>LAND</td>\n",
       "      <td>RS-1</td>\n",
       "      <td>One-Family Dwelling</td>\n",
       "      <td>28</td>\n",
       "      <td>VAP1369</td>\n",
       "      <td>4</td>\n",
       "      <td>NaN</td>\n",
       "      <td>NaN</td>\n",
       "      <td>5249.0</td>\n",
       "      <td>PRINCE ALBERT ST</td>\n",
       "      <td>1511000.0</td>\n",
       "      <td>86700.0</td>\n",
       "      <td>1292000.0</td>\n",
       "      <td>76100.0</td>\n",
       "      <td>1965.0</td>\n",
       "      <td>1970.0</td>\n",
       "      <td>6090.50</td>\n",
       "      <td>16</td>\n",
       "      <td>V5W</td>\n",
       "    </tr>\n",
       "    <tr>\n",
       "      <th>4</th>\n",
       "      <td>LAND</td>\n",
       "      <td>RS-1</td>\n",
       "      <td>One-Family Dwelling</td>\n",
       "      <td>A</td>\n",
       "      <td>VAP16533</td>\n",
       "      <td>138</td>\n",
       "      <td>540</td>\n",
       "      <td>NaN</td>\n",
       "      <td>4411.0</td>\n",
       "      <td>3RD AVE W</td>\n",
       "      <td>4715000.0</td>\n",
       "      <td>257000.0</td>\n",
       "      <td>4201000.0</td>\n",
       "      <td>263000.0</td>\n",
       "      <td>1925.0</td>\n",
       "      <td>1986.0</td>\n",
       "      <td>21077.20</td>\n",
       "      <td>1</td>\n",
       "      <td>V6R</td>\n",
       "    </tr>\n",
       "  </tbody>\n",
       "</table>\n",
       "</div>"
      ],
      "text/plain": [
       "  LEGAL_TYPE ZONING_DISTRICT ZONING_CLASSIFICATION LOT      PLAN BLOCK  \\\n",
       "0       LAND            RS-1   One-Family Dwelling   8   VAP1220   202   \n",
       "1       LAND            RS-1   One-Family Dwelling  12   VAP2558    10   \n",
       "2       LAND            RT-2   Two-Family Dwelling  27   VAP2324     5   \n",
       "3       LAND            RS-1   One-Family Dwelling  28   VAP1369     4   \n",
       "4       LAND            RS-1   One-Family Dwelling   A  VAP16533   138   \n",
       "\n",
       "  DISTRICT_LOT FROM_CIVIC_NUMBER  TO_CIVIC_NUMBER       STREET_NAME  \\\n",
       "0          NaN               NaN            628.0        29TH AVE E   \n",
       "1          391               NaN            435.0        30TH AVE E   \n",
       "2          647               NaN           6112.0           MAIN ST   \n",
       "3          NaN               NaN           5249.0  PRINCE ALBERT ST   \n",
       "4          540               NaN           4411.0         3RD AVE W   \n",
       "\n",
       "   CURRENT_LAND_VALUE  CURRENT_IMPROVEMENT_VALUE  PREVIOUS_LAND_VALUE  \\\n",
       "0           1808000.0                    88300.0            1598000.0   \n",
       "1           1771000.0                   156000.0            1597000.0   \n",
       "2           1189000.0                   314000.0            1118000.0   \n",
       "3           1511000.0                    86700.0            1292000.0   \n",
       "4           4715000.0                   257000.0            4201000.0   \n",
       "\n",
       "   PREVIOUS_IMPROVEMENT_VALUE  YEAR_BUILT  BIG_IMPROVEMENT_YEAR  TAX_LEVY  \\\n",
       "0                     76900.0      1974.0                1974.0   6919.60   \n",
       "1                    137000.0      1912.0                1980.0   7028.28   \n",
       "2                    283000.0      2005.0                2005.0   5796.46   \n",
       "3                     76100.0      1965.0                1970.0   6090.50   \n",
       "4                    263000.0      1925.0                1986.0  21077.20   \n",
       "\n",
       "   NEIGHBOURHOOD_CODE POSTAL  \n",
       "0                  16    V5V  \n",
       "1                  16    V5V  \n",
       "2                  16    V5W  \n",
       "3                  16    V5W  \n",
       "4                   1    V6R  "
      ]
     },
     "execution_count": 524,
     "metadata": {},
     "output_type": "execute_result"
    }
   ],
   "source": [
    "df.head()"
   ]
  },
  {
   "cell_type": "markdown",
   "id": "df65ad1a",
   "metadata": {},
   "source": [
    "#### Street Feature\n",
    "\n",
    "Include only roads that have more than 100 plot/buildings\n",
    "\n",
    "Create dummies"
   ]
  },
  {
   "cell_type": "code",
   "execution_count": 525,
   "id": "d182d89e",
   "metadata": {},
   "outputs": [
    {
     "data": {
      "text/plain": [
       "RICHARDS ST       3711\n",
       "CAMBIE ST         3018\n",
       "HOMER ST          2780\n",
       "7TH AVE W         2690\n",
       "SEYMOUR ST        2666\n",
       "                  ... \n",
       "DUNKIRK ST           1\n",
       "BURRARD INLET        1\n",
       "CURATE WYND          1\n",
       "STARBOARD SQ         1\n",
       "SHOREPINE WALK       1\n",
       "Name: STREET_NAME, Length: 982, dtype: int64"
      ]
     },
     "execution_count": 525,
     "metadata": {},
     "output_type": "execute_result"
    }
   ],
   "source": [
    "df.STREET_NAME.value_counts()"
   ]
  },
  {
   "cell_type": "code",
   "execution_count": 526,
   "id": "75c9228a",
   "metadata": {},
   "outputs": [
    {
     "name": "stderr",
     "output_type": "stream",
     "text": [
      "C:\\Users\\dimit\\AppData\\Local\\Temp/ipykernel_4576/1416209023.py:3: SettingWithCopyWarning: \n",
      "A value is trying to be set on a copy of a slice from a DataFrame\n",
      "\n",
      "See the caveats in the documentation: https://pandas.pydata.org/pandas-docs/stable/user_guide/indexing.html#returning-a-view-versus-a-copy\n",
      "  df['STREET_NAME'][df['STREET_NAME'].isin(other_classes)] = 'OTHER'\n"
     ]
    }
   ],
   "source": [
    "other_classes = df['STREET_NAME'].value_counts()[df['STREET_NAME'].value_counts() < 100].index\n",
    "\n",
    "df['STREET_NAME'][df['STREET_NAME'].isin(other_classes)] = 'OTHER'"
   ]
  },
  {
   "cell_type": "code",
   "execution_count": 527,
   "id": "e9fa7467",
   "metadata": {},
   "outputs": [
    {
     "data": {
      "text/plain": [
       "OTHER           16174\n",
       "RICHARDS ST      3711\n",
       "CAMBIE ST        3018\n",
       "HOMER ST         2780\n",
       "7TH AVE W        2690\n",
       "                ...  \n",
       "CHAMBERS ST       103\n",
       "MONMOUTH AVE      103\n",
       "LORD ST           102\n",
       "BERKELEY ST       101\n",
       "69TH AVE W        101\n",
       "Name: STREET_NAME, Length: 395, dtype: int64"
      ]
     },
     "execution_count": 527,
     "metadata": {},
     "output_type": "execute_result"
    }
   ],
   "source": [
    "df.STREET_NAME.value_counts()"
   ]
  },
  {
   "cell_type": "code",
   "execution_count": 528,
   "id": "e5fd970c",
   "metadata": {},
   "outputs": [],
   "source": [
    "df = df[df[\"STREET_NAME\"].str.contains(\"OTHER\") == False]"
   ]
  },
  {
   "cell_type": "code",
   "execution_count": 529,
   "id": "1e9be5d2",
   "metadata": {},
   "outputs": [
    {
     "data": {
      "text/plain": [
       "RICHARDS ST     3711\n",
       "CAMBIE ST       3018\n",
       "HOMER ST        2780\n",
       "7TH AVE W       2690\n",
       "SEYMOUR ST      2666\n",
       "                ... \n",
       "CHAMBERS ST      103\n",
       "MONMOUTH AVE     103\n",
       "LORD ST          102\n",
       "BERKELEY ST      101\n",
       "69TH AVE W       101\n",
       "Name: STREET_NAME, Length: 394, dtype: int64"
      ]
     },
     "execution_count": 529,
     "metadata": {},
     "output_type": "execute_result"
    }
   ],
   "source": [
    "df.STREET_NAME.value_counts()"
   ]
  },
  {
   "cell_type": "code",
   "execution_count": 530,
   "id": "1e157af5",
   "metadata": {},
   "outputs": [],
   "source": [
    "dummy_features = pd.get_dummies(df.STREET_NAME,prefix = \"STREET\", drop_first=False)\n",
    "dummy_features.drop(columns={'STREET_69TH AVE W'}, axis = 1, inplace = True)\n",
    "df2 = pd.concat([df, dummy_features], axis = 1)\n",
    "df2.drop(columns=[\"STREET_NAME\"], axis = 1, inplace = True)"
   ]
  },
  {
   "cell_type": "markdown",
   "id": "262edaeb",
   "metadata": {},
   "source": [
    "#### Zoning Feature\n",
    "\n",
    "Keep only one, two, multi dwelling\n",
    "\n",
    "Dummies"
   ]
  },
  {
   "cell_type": "code",
   "execution_count": 531,
   "id": "e2ee40e9",
   "metadata": {},
   "outputs": [
    {
     "data": {
      "text/plain": [
       "Comprehensive Development    75070\n",
       "One-Family Dwelling          58668\n",
       "Multiple Dwelling            28435\n",
       "Commercial                   17921\n",
       "Two-Family Dwelling          15178\n",
       "Industrial                    4224\n",
       "Historical Area               2433\n",
       "Other                          336\n",
       "Limited Agriculture            105\n",
       "Name: ZONING_CLASSIFICATION, dtype: int64"
      ]
     },
     "execution_count": 531,
     "metadata": {},
     "output_type": "execute_result"
    }
   ],
   "source": [
    "df2.ZONING_CLASSIFICATION.value_counts()"
   ]
  },
  {
   "cell_type": "code",
   "execution_count": 532,
   "id": "a0d14b77",
   "metadata": {},
   "outputs": [
    {
     "data": {
      "text/html": [
       "<div>\n",
       "<style scoped>\n",
       "    .dataframe tbody tr th:only-of-type {\n",
       "        vertical-align: middle;\n",
       "    }\n",
       "\n",
       "    .dataframe tbody tr th {\n",
       "        vertical-align: top;\n",
       "    }\n",
       "\n",
       "    .dataframe thead th {\n",
       "        text-align: right;\n",
       "    }\n",
       "</style>\n",
       "<table border=\"1\" class=\"dataframe\">\n",
       "  <thead>\n",
       "    <tr style=\"text-align: right;\">\n",
       "      <th></th>\n",
       "      <th>LEGAL_TYPE</th>\n",
       "      <th>ZONING_DISTRICT</th>\n",
       "      <th>ZONING_CLASSIFICATION</th>\n",
       "      <th>LOT</th>\n",
       "      <th>PLAN</th>\n",
       "      <th>BLOCK</th>\n",
       "      <th>DISTRICT_LOT</th>\n",
       "      <th>FROM_CIVIC_NUMBER</th>\n",
       "      <th>TO_CIVIC_NUMBER</th>\n",
       "      <th>CURRENT_LAND_VALUE</th>\n",
       "      <th>...</th>\n",
       "      <th>STREET_YORK AVE</th>\n",
       "      <th>STREET_YUKON ST</th>\n",
       "      <th>zone_Comprehensive Development</th>\n",
       "      <th>zone_Historical Area</th>\n",
       "      <th>zone_Industrial</th>\n",
       "      <th>zone_Limited Agriculture</th>\n",
       "      <th>zone_Multiple Dwelling</th>\n",
       "      <th>zone_One-Family Dwelling</th>\n",
       "      <th>zone_Other</th>\n",
       "      <th>zone_Two-Family Dwelling</th>\n",
       "    </tr>\n",
       "  </thead>\n",
       "  <tbody>\n",
       "    <tr>\n",
       "      <th>0</th>\n",
       "      <td>LAND</td>\n",
       "      <td>RS-1</td>\n",
       "      <td>One-Family Dwelling</td>\n",
       "      <td>8</td>\n",
       "      <td>VAP1220</td>\n",
       "      <td>202</td>\n",
       "      <td>NaN</td>\n",
       "      <td>NaN</td>\n",
       "      <td>628.0</td>\n",
       "      <td>1808000.0</td>\n",
       "      <td>...</td>\n",
       "      <td>0</td>\n",
       "      <td>0</td>\n",
       "      <td>0</td>\n",
       "      <td>0</td>\n",
       "      <td>0</td>\n",
       "      <td>0</td>\n",
       "      <td>0</td>\n",
       "      <td>1</td>\n",
       "      <td>0</td>\n",
       "      <td>0</td>\n",
       "    </tr>\n",
       "    <tr>\n",
       "      <th>1</th>\n",
       "      <td>LAND</td>\n",
       "      <td>RS-1</td>\n",
       "      <td>One-Family Dwelling</td>\n",
       "      <td>12</td>\n",
       "      <td>VAP2558</td>\n",
       "      <td>10</td>\n",
       "      <td>391</td>\n",
       "      <td>NaN</td>\n",
       "      <td>435.0</td>\n",
       "      <td>1771000.0</td>\n",
       "      <td>...</td>\n",
       "      <td>0</td>\n",
       "      <td>0</td>\n",
       "      <td>0</td>\n",
       "      <td>0</td>\n",
       "      <td>0</td>\n",
       "      <td>0</td>\n",
       "      <td>0</td>\n",
       "      <td>1</td>\n",
       "      <td>0</td>\n",
       "      <td>0</td>\n",
       "    </tr>\n",
       "    <tr>\n",
       "      <th>2</th>\n",
       "      <td>LAND</td>\n",
       "      <td>RT-2</td>\n",
       "      <td>Two-Family Dwelling</td>\n",
       "      <td>27</td>\n",
       "      <td>VAP2324</td>\n",
       "      <td>5</td>\n",
       "      <td>647</td>\n",
       "      <td>NaN</td>\n",
       "      <td>6112.0</td>\n",
       "      <td>1189000.0</td>\n",
       "      <td>...</td>\n",
       "      <td>0</td>\n",
       "      <td>0</td>\n",
       "      <td>0</td>\n",
       "      <td>0</td>\n",
       "      <td>0</td>\n",
       "      <td>0</td>\n",
       "      <td>0</td>\n",
       "      <td>0</td>\n",
       "      <td>0</td>\n",
       "      <td>1</td>\n",
       "    </tr>\n",
       "    <tr>\n",
       "      <th>3</th>\n",
       "      <td>LAND</td>\n",
       "      <td>RS-1</td>\n",
       "      <td>One-Family Dwelling</td>\n",
       "      <td>28</td>\n",
       "      <td>VAP1369</td>\n",
       "      <td>4</td>\n",
       "      <td>NaN</td>\n",
       "      <td>NaN</td>\n",
       "      <td>5249.0</td>\n",
       "      <td>1511000.0</td>\n",
       "      <td>...</td>\n",
       "      <td>0</td>\n",
       "      <td>0</td>\n",
       "      <td>0</td>\n",
       "      <td>0</td>\n",
       "      <td>0</td>\n",
       "      <td>0</td>\n",
       "      <td>0</td>\n",
       "      <td>1</td>\n",
       "      <td>0</td>\n",
       "      <td>0</td>\n",
       "    </tr>\n",
       "    <tr>\n",
       "      <th>4</th>\n",
       "      <td>LAND</td>\n",
       "      <td>RS-1</td>\n",
       "      <td>One-Family Dwelling</td>\n",
       "      <td>A</td>\n",
       "      <td>VAP16533</td>\n",
       "      <td>138</td>\n",
       "      <td>540</td>\n",
       "      <td>NaN</td>\n",
       "      <td>4411.0</td>\n",
       "      <td>4715000.0</td>\n",
       "      <td>...</td>\n",
       "      <td>0</td>\n",
       "      <td>0</td>\n",
       "      <td>0</td>\n",
       "      <td>0</td>\n",
       "      <td>0</td>\n",
       "      <td>0</td>\n",
       "      <td>0</td>\n",
       "      <td>1</td>\n",
       "      <td>0</td>\n",
       "      <td>0</td>\n",
       "    </tr>\n",
       "    <tr>\n",
       "      <th>...</th>\n",
       "      <td>...</td>\n",
       "      <td>...</td>\n",
       "      <td>...</td>\n",
       "      <td>...</td>\n",
       "      <td>...</td>\n",
       "      <td>...</td>\n",
       "      <td>...</td>\n",
       "      <td>...</td>\n",
       "      <td>...</td>\n",
       "      <td>...</td>\n",
       "      <td>...</td>\n",
       "      <td>...</td>\n",
       "      <td>...</td>\n",
       "      <td>...</td>\n",
       "      <td>...</td>\n",
       "      <td>...</td>\n",
       "      <td>...</td>\n",
       "      <td>...</td>\n",
       "      <td>...</td>\n",
       "      <td>...</td>\n",
       "      <td>...</td>\n",
       "    </tr>\n",
       "    <tr>\n",
       "      <th>218692</th>\n",
       "      <td>STRATA</td>\n",
       "      <td>CD-1 (561)</td>\n",
       "      <td>Comprehensive Development</td>\n",
       "      <td>232</td>\n",
       "      <td>EPS4557</td>\n",
       "      <td>NaN</td>\n",
       "      <td>181</td>\n",
       "      <td>805</td>\n",
       "      <td>983.0</td>\n",
       "      <td>345000.0</td>\n",
       "      <td>...</td>\n",
       "      <td>0</td>\n",
       "      <td>0</td>\n",
       "      <td>1</td>\n",
       "      <td>0</td>\n",
       "      <td>0</td>\n",
       "      <td>0</td>\n",
       "      <td>0</td>\n",
       "      <td>0</td>\n",
       "      <td>0</td>\n",
       "      <td>0</td>\n",
       "    </tr>\n",
       "    <tr>\n",
       "      <th>218693</th>\n",
       "      <td>STRATA</td>\n",
       "      <td>C-2B</td>\n",
       "      <td>Commercial</td>\n",
       "      <td>89</td>\n",
       "      <td>LMS1089</td>\n",
       "      <td>NaN</td>\n",
       "      <td>526</td>\n",
       "      <td>NaN</td>\n",
       "      <td>2207.0</td>\n",
       "      <td>2803000.0</td>\n",
       "      <td>...</td>\n",
       "      <td>0</td>\n",
       "      <td>0</td>\n",
       "      <td>0</td>\n",
       "      <td>0</td>\n",
       "      <td>0</td>\n",
       "      <td>0</td>\n",
       "      <td>0</td>\n",
       "      <td>0</td>\n",
       "      <td>0</td>\n",
       "      <td>0</td>\n",
       "    </tr>\n",
       "    <tr>\n",
       "      <th>218694</th>\n",
       "      <td>STRATA</td>\n",
       "      <td>DD</td>\n",
       "      <td>Comprehensive Development</td>\n",
       "      <td>83</td>\n",
       "      <td>VAS1182</td>\n",
       "      <td>NaN</td>\n",
       "      <td>541</td>\n",
       "      <td>510</td>\n",
       "      <td>1330.0</td>\n",
       "      <td>346000.0</td>\n",
       "      <td>...</td>\n",
       "      <td>0</td>\n",
       "      <td>0</td>\n",
       "      <td>1</td>\n",
       "      <td>0</td>\n",
       "      <td>0</td>\n",
       "      <td>0</td>\n",
       "      <td>0</td>\n",
       "      <td>0</td>\n",
       "      <td>0</td>\n",
       "      <td>0</td>\n",
       "    </tr>\n",
       "    <tr>\n",
       "      <th>218695</th>\n",
       "      <td>LAND</td>\n",
       "      <td>DD</td>\n",
       "      <td>Comprehensive Development</td>\n",
       "      <td>E</td>\n",
       "      <td>LMP38156</td>\n",
       "      <td>103</td>\n",
       "      <td>541</td>\n",
       "      <td>NaN</td>\n",
       "      <td>1221.0</td>\n",
       "      <td>1.0</td>\n",
       "      <td>...</td>\n",
       "      <td>0</td>\n",
       "      <td>0</td>\n",
       "      <td>1</td>\n",
       "      <td>0</td>\n",
       "      <td>0</td>\n",
       "      <td>0</td>\n",
       "      <td>0</td>\n",
       "      <td>0</td>\n",
       "      <td>0</td>\n",
       "      <td>0</td>\n",
       "    </tr>\n",
       "    <tr>\n",
       "      <th>218696</th>\n",
       "      <td>STRATA</td>\n",
       "      <td>CD-1 (543)</td>\n",
       "      <td>Comprehensive Development</td>\n",
       "      <td>8</td>\n",
       "      <td>EPS1802</td>\n",
       "      <td>NaN</td>\n",
       "      <td>526</td>\n",
       "      <td>NaN</td>\n",
       "      <td>6130.0</td>\n",
       "      <td>1198000.0</td>\n",
       "      <td>...</td>\n",
       "      <td>0</td>\n",
       "      <td>0</td>\n",
       "      <td>1</td>\n",
       "      <td>0</td>\n",
       "      <td>0</td>\n",
       "      <td>0</td>\n",
       "      <td>0</td>\n",
       "      <td>0</td>\n",
       "      <td>0</td>\n",
       "      <td>0</td>\n",
       "    </tr>\n",
       "  </tbody>\n",
       "</table>\n",
       "<p>202374 rows × 419 columns</p>\n",
       "</div>"
      ],
      "text/plain": [
       "       LEGAL_TYPE ZONING_DISTRICT      ZONING_CLASSIFICATION  LOT      PLAN  \\\n",
       "0            LAND            RS-1        One-Family Dwelling    8   VAP1220   \n",
       "1            LAND            RS-1        One-Family Dwelling   12   VAP2558   \n",
       "2            LAND            RT-2        Two-Family Dwelling   27   VAP2324   \n",
       "3            LAND            RS-1        One-Family Dwelling   28   VAP1369   \n",
       "4            LAND            RS-1        One-Family Dwelling    A  VAP16533   \n",
       "...           ...             ...                        ...  ...       ...   \n",
       "218692     STRATA      CD-1 (561)  Comprehensive Development  232   EPS4557   \n",
       "218693     STRATA            C-2B                 Commercial   89   LMS1089   \n",
       "218694     STRATA              DD  Comprehensive Development   83   VAS1182   \n",
       "218695       LAND              DD  Comprehensive Development    E  LMP38156   \n",
       "218696     STRATA      CD-1 (543)  Comprehensive Development    8   EPS1802   \n",
       "\n",
       "       BLOCK DISTRICT_LOT FROM_CIVIC_NUMBER  TO_CIVIC_NUMBER  \\\n",
       "0        202          NaN               NaN            628.0   \n",
       "1         10          391               NaN            435.0   \n",
       "2          5          647               NaN           6112.0   \n",
       "3          4          NaN               NaN           5249.0   \n",
       "4        138          540               NaN           4411.0   \n",
       "...      ...          ...               ...              ...   \n",
       "218692   NaN          181               805            983.0   \n",
       "218693   NaN          526               NaN           2207.0   \n",
       "218694   NaN          541               510           1330.0   \n",
       "218695   103          541               NaN           1221.0   \n",
       "218696   NaN          526               NaN           6130.0   \n",
       "\n",
       "        CURRENT_LAND_VALUE  ...  STREET_YORK AVE  STREET_YUKON ST  \\\n",
       "0                1808000.0  ...                0                0   \n",
       "1                1771000.0  ...                0                0   \n",
       "2                1189000.0  ...                0                0   \n",
       "3                1511000.0  ...                0                0   \n",
       "4                4715000.0  ...                0                0   \n",
       "...                    ...  ...              ...              ...   \n",
       "218692            345000.0  ...                0                0   \n",
       "218693           2803000.0  ...                0                0   \n",
       "218694            346000.0  ...                0                0   \n",
       "218695                 1.0  ...                0                0   \n",
       "218696           1198000.0  ...                0                0   \n",
       "\n",
       "        zone_Comprehensive Development  zone_Historical Area  zone_Industrial  \\\n",
       "0                                    0                     0                0   \n",
       "1                                    0                     0                0   \n",
       "2                                    0                     0                0   \n",
       "3                                    0                     0                0   \n",
       "4                                    0                     0                0   \n",
       "...                                ...                   ...              ...   \n",
       "218692                               1                     0                0   \n",
       "218693                               0                     0                0   \n",
       "218694                               1                     0                0   \n",
       "218695                               1                     0                0   \n",
       "218696                               1                     0                0   \n",
       "\n",
       "        zone_Limited Agriculture  zone_Multiple Dwelling  \\\n",
       "0                              0                       0   \n",
       "1                              0                       0   \n",
       "2                              0                       0   \n",
       "3                              0                       0   \n",
       "4                              0                       0   \n",
       "...                          ...                     ...   \n",
       "218692                         0                       0   \n",
       "218693                         0                       0   \n",
       "218694                         0                       0   \n",
       "218695                         0                       0   \n",
       "218696                         0                       0   \n",
       "\n",
       "       zone_One-Family Dwelling  zone_Other  zone_Two-Family Dwelling  \n",
       "0                             1           0                         0  \n",
       "1                             1           0                         0  \n",
       "2                             0           0                         1  \n",
       "3                             1           0                         0  \n",
       "4                             1           0                         0  \n",
       "...                         ...         ...                       ...  \n",
       "218692                        0           0                         0  \n",
       "218693                        0           0                         0  \n",
       "218694                        0           0                         0  \n",
       "218695                        0           0                         0  \n",
       "218696                        0           0                         0  \n",
       "\n",
       "[202374 rows x 419 columns]"
      ]
     },
     "execution_count": 532,
     "metadata": {},
     "output_type": "execute_result"
    }
   ],
   "source": [
    "dummy_features = pd.get_dummies(df2.ZONING_CLASSIFICATION,prefix = \"zone\", drop_first=True)\n",
    "df3 = pd.concat([df2, dummy_features], axis = 1) #add dummies to the dataframe\n",
    "df3"
   ]
  },
  {
   "cell_type": "code",
   "execution_count": 533,
   "id": "56b634d9",
   "metadata": {},
   "outputs": [],
   "source": [
    "df3.drop(columns={'zone_Comprehensive Development','zone_Historical Area','zone_Industrial','zone_Limited Agriculture','zone_Other','ZONING_CLASSIFICATION'}, axis = 1, inplace = True)"
   ]
  },
  {
   "cell_type": "code",
   "execution_count": 534,
   "id": "16ed02d6",
   "metadata": {},
   "outputs": [
    {
     "data": {
      "text/html": [
       "<div>\n",
       "<style scoped>\n",
       "    .dataframe tbody tr th:only-of-type {\n",
       "        vertical-align: middle;\n",
       "    }\n",
       "\n",
       "    .dataframe tbody tr th {\n",
       "        vertical-align: top;\n",
       "    }\n",
       "\n",
       "    .dataframe thead th {\n",
       "        text-align: right;\n",
       "    }\n",
       "</style>\n",
       "<table border=\"1\" class=\"dataframe\">\n",
       "  <thead>\n",
       "    <tr style=\"text-align: right;\">\n",
       "      <th></th>\n",
       "      <th>LEGAL_TYPE</th>\n",
       "      <th>ZONING_DISTRICT</th>\n",
       "      <th>LOT</th>\n",
       "      <th>PLAN</th>\n",
       "      <th>BLOCK</th>\n",
       "      <th>DISTRICT_LOT</th>\n",
       "      <th>FROM_CIVIC_NUMBER</th>\n",
       "      <th>TO_CIVIC_NUMBER</th>\n",
       "      <th>CURRENT_LAND_VALUE</th>\n",
       "      <th>CURRENT_IMPROVEMENT_VALUE</th>\n",
       "      <th>...</th>\n",
       "      <th>STREET_WILTSHIRE ST</th>\n",
       "      <th>STREET_WINDSOR ST</th>\n",
       "      <th>STREET_WOODLAND DR</th>\n",
       "      <th>STREET_WYLIE ST</th>\n",
       "      <th>STREET_YEW ST</th>\n",
       "      <th>STREET_YORK AVE</th>\n",
       "      <th>STREET_YUKON ST</th>\n",
       "      <th>zone_Multiple Dwelling</th>\n",
       "      <th>zone_One-Family Dwelling</th>\n",
       "      <th>zone_Two-Family Dwelling</th>\n",
       "    </tr>\n",
       "  </thead>\n",
       "  <tbody>\n",
       "    <tr>\n",
       "      <th>0</th>\n",
       "      <td>LAND</td>\n",
       "      <td>RS-1</td>\n",
       "      <td>8</td>\n",
       "      <td>VAP1220</td>\n",
       "      <td>202</td>\n",
       "      <td>NaN</td>\n",
       "      <td>NaN</td>\n",
       "      <td>628.0</td>\n",
       "      <td>1808000.0</td>\n",
       "      <td>88300.0</td>\n",
       "      <td>...</td>\n",
       "      <td>0</td>\n",
       "      <td>0</td>\n",
       "      <td>0</td>\n",
       "      <td>0</td>\n",
       "      <td>0</td>\n",
       "      <td>0</td>\n",
       "      <td>0</td>\n",
       "      <td>0</td>\n",
       "      <td>1</td>\n",
       "      <td>0</td>\n",
       "    </tr>\n",
       "    <tr>\n",
       "      <th>1</th>\n",
       "      <td>LAND</td>\n",
       "      <td>RS-1</td>\n",
       "      <td>12</td>\n",
       "      <td>VAP2558</td>\n",
       "      <td>10</td>\n",
       "      <td>391</td>\n",
       "      <td>NaN</td>\n",
       "      <td>435.0</td>\n",
       "      <td>1771000.0</td>\n",
       "      <td>156000.0</td>\n",
       "      <td>...</td>\n",
       "      <td>0</td>\n",
       "      <td>0</td>\n",
       "      <td>0</td>\n",
       "      <td>0</td>\n",
       "      <td>0</td>\n",
       "      <td>0</td>\n",
       "      <td>0</td>\n",
       "      <td>0</td>\n",
       "      <td>1</td>\n",
       "      <td>0</td>\n",
       "    </tr>\n",
       "    <tr>\n",
       "      <th>2</th>\n",
       "      <td>LAND</td>\n",
       "      <td>RT-2</td>\n",
       "      <td>27</td>\n",
       "      <td>VAP2324</td>\n",
       "      <td>5</td>\n",
       "      <td>647</td>\n",
       "      <td>NaN</td>\n",
       "      <td>6112.0</td>\n",
       "      <td>1189000.0</td>\n",
       "      <td>314000.0</td>\n",
       "      <td>...</td>\n",
       "      <td>0</td>\n",
       "      <td>0</td>\n",
       "      <td>0</td>\n",
       "      <td>0</td>\n",
       "      <td>0</td>\n",
       "      <td>0</td>\n",
       "      <td>0</td>\n",
       "      <td>0</td>\n",
       "      <td>0</td>\n",
       "      <td>1</td>\n",
       "    </tr>\n",
       "    <tr>\n",
       "      <th>3</th>\n",
       "      <td>LAND</td>\n",
       "      <td>RS-1</td>\n",
       "      <td>28</td>\n",
       "      <td>VAP1369</td>\n",
       "      <td>4</td>\n",
       "      <td>NaN</td>\n",
       "      <td>NaN</td>\n",
       "      <td>5249.0</td>\n",
       "      <td>1511000.0</td>\n",
       "      <td>86700.0</td>\n",
       "      <td>...</td>\n",
       "      <td>0</td>\n",
       "      <td>0</td>\n",
       "      <td>0</td>\n",
       "      <td>0</td>\n",
       "      <td>0</td>\n",
       "      <td>0</td>\n",
       "      <td>0</td>\n",
       "      <td>0</td>\n",
       "      <td>1</td>\n",
       "      <td>0</td>\n",
       "    </tr>\n",
       "    <tr>\n",
       "      <th>4</th>\n",
       "      <td>LAND</td>\n",
       "      <td>RS-1</td>\n",
       "      <td>A</td>\n",
       "      <td>VAP16533</td>\n",
       "      <td>138</td>\n",
       "      <td>540</td>\n",
       "      <td>NaN</td>\n",
       "      <td>4411.0</td>\n",
       "      <td>4715000.0</td>\n",
       "      <td>257000.0</td>\n",
       "      <td>...</td>\n",
       "      <td>0</td>\n",
       "      <td>0</td>\n",
       "      <td>0</td>\n",
       "      <td>0</td>\n",
       "      <td>0</td>\n",
       "      <td>0</td>\n",
       "      <td>0</td>\n",
       "      <td>0</td>\n",
       "      <td>1</td>\n",
       "      <td>0</td>\n",
       "    </tr>\n",
       "  </tbody>\n",
       "</table>\n",
       "<p>5 rows × 413 columns</p>\n",
       "</div>"
      ],
      "text/plain": [
       "  LEGAL_TYPE ZONING_DISTRICT LOT      PLAN BLOCK DISTRICT_LOT  \\\n",
       "0       LAND            RS-1   8   VAP1220   202          NaN   \n",
       "1       LAND            RS-1  12   VAP2558    10          391   \n",
       "2       LAND            RT-2  27   VAP2324     5          647   \n",
       "3       LAND            RS-1  28   VAP1369     4          NaN   \n",
       "4       LAND            RS-1   A  VAP16533   138          540   \n",
       "\n",
       "  FROM_CIVIC_NUMBER  TO_CIVIC_NUMBER  CURRENT_LAND_VALUE  \\\n",
       "0               NaN            628.0           1808000.0   \n",
       "1               NaN            435.0           1771000.0   \n",
       "2               NaN           6112.0           1189000.0   \n",
       "3               NaN           5249.0           1511000.0   \n",
       "4               NaN           4411.0           4715000.0   \n",
       "\n",
       "   CURRENT_IMPROVEMENT_VALUE  ...  STREET_WILTSHIRE ST  STREET_WINDSOR ST  \\\n",
       "0                    88300.0  ...                    0                  0   \n",
       "1                   156000.0  ...                    0                  0   \n",
       "2                   314000.0  ...                    0                  0   \n",
       "3                    86700.0  ...                    0                  0   \n",
       "4                   257000.0  ...                    0                  0   \n",
       "\n",
       "   STREET_WOODLAND DR  STREET_WYLIE ST  STREET_YEW ST  STREET_YORK AVE  \\\n",
       "0                   0                0              0                0   \n",
       "1                   0                0              0                0   \n",
       "2                   0                0              0                0   \n",
       "3                   0                0              0                0   \n",
       "4                   0                0              0                0   \n",
       "\n",
       "  STREET_YUKON ST  zone_Multiple Dwelling  zone_One-Family Dwelling  \\\n",
       "0               0                       0                         1   \n",
       "1               0                       0                         1   \n",
       "2               0                       0                         0   \n",
       "3               0                       0                         1   \n",
       "4               0                       0                         1   \n",
       "\n",
       "   zone_Two-Family Dwelling  \n",
       "0                         0  \n",
       "1                         0  \n",
       "2                         1  \n",
       "3                         0  \n",
       "4                         0  \n",
       "\n",
       "[5 rows x 413 columns]"
      ]
     },
     "execution_count": 534,
     "metadata": {},
     "output_type": "execute_result"
    }
   ],
   "source": [
    "df3.head()"
   ]
  },
  {
   "cell_type": "markdown",
   "id": "a9b55c42",
   "metadata": {},
   "source": [
    "#### change all columns to lower-case for easier use"
   ]
  },
  {
   "cell_type": "code",
   "execution_count": 535,
   "id": "3ab28f9d",
   "metadata": {},
   "outputs": [
    {
     "data": {
      "text/html": [
       "<div>\n",
       "<style scoped>\n",
       "    .dataframe tbody tr th:only-of-type {\n",
       "        vertical-align: middle;\n",
       "    }\n",
       "\n",
       "    .dataframe tbody tr th {\n",
       "        vertical-align: top;\n",
       "    }\n",
       "\n",
       "    .dataframe thead th {\n",
       "        text-align: right;\n",
       "    }\n",
       "</style>\n",
       "<table border=\"1\" class=\"dataframe\">\n",
       "  <thead>\n",
       "    <tr style=\"text-align: right;\">\n",
       "      <th></th>\n",
       "      <th>legal_type</th>\n",
       "      <th>zoning_district</th>\n",
       "      <th>lot</th>\n",
       "      <th>plan</th>\n",
       "      <th>block</th>\n",
       "      <th>district_lot</th>\n",
       "      <th>from_civic_number</th>\n",
       "      <th>to_civic_number</th>\n",
       "      <th>current_land_value</th>\n",
       "      <th>current_improvement_value</th>\n",
       "      <th>...</th>\n",
       "      <th>street_wiltshire st</th>\n",
       "      <th>street_windsor st</th>\n",
       "      <th>street_woodland dr</th>\n",
       "      <th>street_wylie st</th>\n",
       "      <th>street_yew st</th>\n",
       "      <th>street_york ave</th>\n",
       "      <th>street_yukon st</th>\n",
       "      <th>zone_multiple dwelling</th>\n",
       "      <th>zone_one-family dwelling</th>\n",
       "      <th>zone_two-family dwelling</th>\n",
       "    </tr>\n",
       "  </thead>\n",
       "  <tbody>\n",
       "    <tr>\n",
       "      <th>0</th>\n",
       "      <td>LAND</td>\n",
       "      <td>RS-1</td>\n",
       "      <td>8</td>\n",
       "      <td>VAP1220</td>\n",
       "      <td>202</td>\n",
       "      <td>NaN</td>\n",
       "      <td>NaN</td>\n",
       "      <td>628.0</td>\n",
       "      <td>1808000.0</td>\n",
       "      <td>88300.0</td>\n",
       "      <td>...</td>\n",
       "      <td>0</td>\n",
       "      <td>0</td>\n",
       "      <td>0</td>\n",
       "      <td>0</td>\n",
       "      <td>0</td>\n",
       "      <td>0</td>\n",
       "      <td>0</td>\n",
       "      <td>0</td>\n",
       "      <td>1</td>\n",
       "      <td>0</td>\n",
       "    </tr>\n",
       "    <tr>\n",
       "      <th>1</th>\n",
       "      <td>LAND</td>\n",
       "      <td>RS-1</td>\n",
       "      <td>12</td>\n",
       "      <td>VAP2558</td>\n",
       "      <td>10</td>\n",
       "      <td>391</td>\n",
       "      <td>NaN</td>\n",
       "      <td>435.0</td>\n",
       "      <td>1771000.0</td>\n",
       "      <td>156000.0</td>\n",
       "      <td>...</td>\n",
       "      <td>0</td>\n",
       "      <td>0</td>\n",
       "      <td>0</td>\n",
       "      <td>0</td>\n",
       "      <td>0</td>\n",
       "      <td>0</td>\n",
       "      <td>0</td>\n",
       "      <td>0</td>\n",
       "      <td>1</td>\n",
       "      <td>0</td>\n",
       "    </tr>\n",
       "    <tr>\n",
       "      <th>2</th>\n",
       "      <td>LAND</td>\n",
       "      <td>RT-2</td>\n",
       "      <td>27</td>\n",
       "      <td>VAP2324</td>\n",
       "      <td>5</td>\n",
       "      <td>647</td>\n",
       "      <td>NaN</td>\n",
       "      <td>6112.0</td>\n",
       "      <td>1189000.0</td>\n",
       "      <td>314000.0</td>\n",
       "      <td>...</td>\n",
       "      <td>0</td>\n",
       "      <td>0</td>\n",
       "      <td>0</td>\n",
       "      <td>0</td>\n",
       "      <td>0</td>\n",
       "      <td>0</td>\n",
       "      <td>0</td>\n",
       "      <td>0</td>\n",
       "      <td>0</td>\n",
       "      <td>1</td>\n",
       "    </tr>\n",
       "    <tr>\n",
       "      <th>3</th>\n",
       "      <td>LAND</td>\n",
       "      <td>RS-1</td>\n",
       "      <td>28</td>\n",
       "      <td>VAP1369</td>\n",
       "      <td>4</td>\n",
       "      <td>NaN</td>\n",
       "      <td>NaN</td>\n",
       "      <td>5249.0</td>\n",
       "      <td>1511000.0</td>\n",
       "      <td>86700.0</td>\n",
       "      <td>...</td>\n",
       "      <td>0</td>\n",
       "      <td>0</td>\n",
       "      <td>0</td>\n",
       "      <td>0</td>\n",
       "      <td>0</td>\n",
       "      <td>0</td>\n",
       "      <td>0</td>\n",
       "      <td>0</td>\n",
       "      <td>1</td>\n",
       "      <td>0</td>\n",
       "    </tr>\n",
       "    <tr>\n",
       "      <th>4</th>\n",
       "      <td>LAND</td>\n",
       "      <td>RS-1</td>\n",
       "      <td>A</td>\n",
       "      <td>VAP16533</td>\n",
       "      <td>138</td>\n",
       "      <td>540</td>\n",
       "      <td>NaN</td>\n",
       "      <td>4411.0</td>\n",
       "      <td>4715000.0</td>\n",
       "      <td>257000.0</td>\n",
       "      <td>...</td>\n",
       "      <td>0</td>\n",
       "      <td>0</td>\n",
       "      <td>0</td>\n",
       "      <td>0</td>\n",
       "      <td>0</td>\n",
       "      <td>0</td>\n",
       "      <td>0</td>\n",
       "      <td>0</td>\n",
       "      <td>1</td>\n",
       "      <td>0</td>\n",
       "    </tr>\n",
       "  </tbody>\n",
       "</table>\n",
       "<p>5 rows × 413 columns</p>\n",
       "</div>"
      ],
      "text/plain": [
       "  legal_type zoning_district lot      plan block district_lot  \\\n",
       "0       LAND            RS-1   8   VAP1220   202          NaN   \n",
       "1       LAND            RS-1  12   VAP2558    10          391   \n",
       "2       LAND            RT-2  27   VAP2324     5          647   \n",
       "3       LAND            RS-1  28   VAP1369     4          NaN   \n",
       "4       LAND            RS-1   A  VAP16533   138          540   \n",
       "\n",
       "  from_civic_number  to_civic_number  current_land_value  \\\n",
       "0               NaN            628.0           1808000.0   \n",
       "1               NaN            435.0           1771000.0   \n",
       "2               NaN           6112.0           1189000.0   \n",
       "3               NaN           5249.0           1511000.0   \n",
       "4               NaN           4411.0           4715000.0   \n",
       "\n",
       "   current_improvement_value  ...  street_wiltshire st  street_windsor st  \\\n",
       "0                    88300.0  ...                    0                  0   \n",
       "1                   156000.0  ...                    0                  0   \n",
       "2                   314000.0  ...                    0                  0   \n",
       "3                    86700.0  ...                    0                  0   \n",
       "4                   257000.0  ...                    0                  0   \n",
       "\n",
       "   street_woodland dr  street_wylie st  street_yew st  street_york ave  \\\n",
       "0                   0                0              0                0   \n",
       "1                   0                0              0                0   \n",
       "2                   0                0              0                0   \n",
       "3                   0                0              0                0   \n",
       "4                   0                0              0                0   \n",
       "\n",
       "  street_yukon st  zone_multiple dwelling  zone_one-family dwelling  \\\n",
       "0               0                       0                         1   \n",
       "1               0                       0                         1   \n",
       "2               0                       0                         0   \n",
       "3               0                       0                         1   \n",
       "4               0                       0                         1   \n",
       "\n",
       "   zone_two-family dwelling  \n",
       "0                         0  \n",
       "1                         0  \n",
       "2                         1  \n",
       "3                         0  \n",
       "4                         0  \n",
       "\n",
       "[5 rows x 413 columns]"
      ]
     },
     "execution_count": 535,
     "metadata": {},
     "output_type": "execute_result"
    }
   ],
   "source": [
    "df3.columns = [x.lower() for x in df3.columns]\n",
    "df3.head()"
   ]
  },
  {
   "cell_type": "markdown",
   "id": "59d6b967",
   "metadata": {},
   "source": [
    "#### Land Value Feature\n",
    "\n",
    "Keep only records that have a current land value and had a previous land value"
   ]
  },
  {
   "cell_type": "code",
   "execution_count": 536,
   "id": "9e8e8918",
   "metadata": {},
   "outputs": [
    {
     "data": {
      "text/plain": [
       "legal_type                       0\n",
       "zoning_district                  4\n",
       "lot                           1222\n",
       "plan                            97\n",
       "block                       123467\n",
       "                             ...  \n",
       "street_york ave                  0\n",
       "street_yukon st                  0\n",
       "zone_multiple dwelling           0\n",
       "zone_one-family dwelling         0\n",
       "zone_two-family dwelling         0\n",
       "Length: 413, dtype: int64"
      ]
     },
     "execution_count": 536,
     "metadata": {},
     "output_type": "execute_result"
    }
   ],
   "source": [
    "df3.isnull().sum()"
   ]
  },
  {
   "cell_type": "code",
   "execution_count": 537,
   "id": "543a956f",
   "metadata": {},
   "outputs": [],
   "source": [
    "df3.dropna(subset=['current_land_value', 'previous_land_value'], how = 'any', inplace = True)"
   ]
  },
  {
   "cell_type": "code",
   "execution_count": 538,
   "id": "fc913395",
   "metadata": {},
   "outputs": [],
   "source": [
    "df3.drop(columns=[\"previous_land_value\", \"previous_improvement_value\"], axis = 1, inplace = True)"
   ]
  },
  {
   "cell_type": "code",
   "execution_count": 539,
   "id": "9e48f641",
   "metadata": {},
   "outputs": [
    {
     "data": {
      "text/plain": [
       "legal_type                       0\n",
       "zoning_district                  2\n",
       "lot                           1073\n",
       "plan                            66\n",
       "block                       119890\n",
       "                             ...  \n",
       "street_york ave                  0\n",
       "street_yukon st                  0\n",
       "zone_multiple dwelling           0\n",
       "zone_one-family dwelling         0\n",
       "zone_two-family dwelling         0\n",
       "Length: 411, dtype: int64"
      ]
     },
     "execution_count": 539,
     "metadata": {},
     "output_type": "execute_result"
    }
   ],
   "source": [
    "df3.isnull().sum()"
   ]
  },
  {
   "cell_type": "markdown",
   "id": "f3f0da28",
   "metadata": {},
   "source": [
    "#### Legal Feature\n",
    "\n",
    "Keep STRATA and LAND \n",
    "\n",
    "Dummies"
   ]
  },
  {
   "cell_type": "code",
   "execution_count": 540,
   "id": "8541d9c2",
   "metadata": {},
   "outputs": [
    {
     "data": {
      "text/plain": [
       "STRATA    119504\n",
       "LAND       77745\n",
       "OTHER         66\n",
       "Name: legal_type, dtype: int64"
      ]
     },
     "execution_count": 540,
     "metadata": {},
     "output_type": "execute_result"
    }
   ],
   "source": [
    "df3.legal_type.value_counts()"
   ]
  },
  {
   "cell_type": "code",
   "execution_count": 541,
   "id": "0cc4ac6f",
   "metadata": {},
   "outputs": [],
   "source": [
    "df3.loc[df3.legal_type.str.contains('OTHER'), 'legal_type'] = float(\"nan\")"
   ]
  },
  {
   "cell_type": "code",
   "execution_count": 542,
   "id": "5ee46421",
   "metadata": {},
   "outputs": [],
   "source": [
    "df3.dropna(subset=['legal_type'], inplace = True)"
   ]
  },
  {
   "cell_type": "code",
   "execution_count": 543,
   "id": "f0314f4b",
   "metadata": {},
   "outputs": [],
   "source": [
    "dummy_features = pd.get_dummies(df3.legal_type,prefix = \"legal\", drop_first=True)\n",
    "df4 = pd.concat([df3, dummy_features], axis = 1)\n",
    "df4.drop(columns=[\"legal_type\"], axis = 1, inplace = True)"
   ]
  },
  {
   "cell_type": "code",
   "execution_count": 544,
   "id": "949cba57",
   "metadata": {},
   "outputs": [
    {
     "data": {
      "text/plain": [
       "zoning_district                  0\n",
       "lot                           1030\n",
       "plan                             0\n",
       "block                       119848\n",
       "district_lot                  8804\n",
       "                             ...  \n",
       "street_yukon st                  0\n",
       "zone_multiple dwelling           0\n",
       "zone_one-family dwelling         0\n",
       "zone_two-family dwelling         0\n",
       "legal_STRATA                     0\n",
       "Length: 411, dtype: int64"
      ]
     },
     "execution_count": 544,
     "metadata": {},
     "output_type": "execute_result"
    }
   ],
   "source": [
    "df4.isnull().sum()"
   ]
  },
  {
   "cell_type": "code",
   "execution_count": 545,
   "id": "10db8a0e",
   "metadata": {},
   "outputs": [
    {
     "data": {
      "text/plain": [
       "1    119504\n",
       "0     77745\n",
       "Name: legal_STRATA, dtype: int64"
      ]
     },
     "execution_count": 545,
     "metadata": {},
     "output_type": "execute_result"
    }
   ],
   "source": [
    "df4.legal_STRATA.value_counts()"
   ]
  },
  {
   "cell_type": "code",
   "execution_count": 546,
   "id": "3efd7a37",
   "metadata": {},
   "outputs": [
    {
     "data": {
      "text/html": [
       "<div>\n",
       "<style scoped>\n",
       "    .dataframe tbody tr th:only-of-type {\n",
       "        vertical-align: middle;\n",
       "    }\n",
       "\n",
       "    .dataframe tbody tr th {\n",
       "        vertical-align: top;\n",
       "    }\n",
       "\n",
       "    .dataframe thead th {\n",
       "        text-align: right;\n",
       "    }\n",
       "</style>\n",
       "<table border=\"1\" class=\"dataframe\">\n",
       "  <thead>\n",
       "    <tr style=\"text-align: right;\">\n",
       "      <th></th>\n",
       "      <th>zoning_district</th>\n",
       "      <th>lot</th>\n",
       "      <th>plan</th>\n",
       "      <th>block</th>\n",
       "      <th>district_lot</th>\n",
       "      <th>from_civic_number</th>\n",
       "      <th>to_civic_number</th>\n",
       "      <th>current_land_value</th>\n",
       "      <th>current_improvement_value</th>\n",
       "      <th>year_built</th>\n",
       "      <th>...</th>\n",
       "      <th>street_windsor st</th>\n",
       "      <th>street_woodland dr</th>\n",
       "      <th>street_wylie st</th>\n",
       "      <th>street_yew st</th>\n",
       "      <th>street_york ave</th>\n",
       "      <th>street_yukon st</th>\n",
       "      <th>zone_multiple dwelling</th>\n",
       "      <th>zone_one-family dwelling</th>\n",
       "      <th>zone_two-family dwelling</th>\n",
       "      <th>legal_strata</th>\n",
       "    </tr>\n",
       "  </thead>\n",
       "  <tbody>\n",
       "    <tr>\n",
       "      <th>0</th>\n",
       "      <td>RS-1</td>\n",
       "      <td>8</td>\n",
       "      <td>VAP1220</td>\n",
       "      <td>202</td>\n",
       "      <td>NaN</td>\n",
       "      <td>NaN</td>\n",
       "      <td>628.0</td>\n",
       "      <td>1808000.0</td>\n",
       "      <td>88300.0</td>\n",
       "      <td>1974.0</td>\n",
       "      <td>...</td>\n",
       "      <td>0</td>\n",
       "      <td>0</td>\n",
       "      <td>0</td>\n",
       "      <td>0</td>\n",
       "      <td>0</td>\n",
       "      <td>0</td>\n",
       "      <td>0</td>\n",
       "      <td>1</td>\n",
       "      <td>0</td>\n",
       "      <td>0</td>\n",
       "    </tr>\n",
       "    <tr>\n",
       "      <th>1</th>\n",
       "      <td>RS-1</td>\n",
       "      <td>12</td>\n",
       "      <td>VAP2558</td>\n",
       "      <td>10</td>\n",
       "      <td>391</td>\n",
       "      <td>NaN</td>\n",
       "      <td>435.0</td>\n",
       "      <td>1771000.0</td>\n",
       "      <td>156000.0</td>\n",
       "      <td>1912.0</td>\n",
       "      <td>...</td>\n",
       "      <td>0</td>\n",
       "      <td>0</td>\n",
       "      <td>0</td>\n",
       "      <td>0</td>\n",
       "      <td>0</td>\n",
       "      <td>0</td>\n",
       "      <td>0</td>\n",
       "      <td>1</td>\n",
       "      <td>0</td>\n",
       "      <td>0</td>\n",
       "    </tr>\n",
       "    <tr>\n",
       "      <th>2</th>\n",
       "      <td>RT-2</td>\n",
       "      <td>27</td>\n",
       "      <td>VAP2324</td>\n",
       "      <td>5</td>\n",
       "      <td>647</td>\n",
       "      <td>NaN</td>\n",
       "      <td>6112.0</td>\n",
       "      <td>1189000.0</td>\n",
       "      <td>314000.0</td>\n",
       "      <td>2005.0</td>\n",
       "      <td>...</td>\n",
       "      <td>0</td>\n",
       "      <td>0</td>\n",
       "      <td>0</td>\n",
       "      <td>0</td>\n",
       "      <td>0</td>\n",
       "      <td>0</td>\n",
       "      <td>0</td>\n",
       "      <td>0</td>\n",
       "      <td>1</td>\n",
       "      <td>0</td>\n",
       "    </tr>\n",
       "    <tr>\n",
       "      <th>3</th>\n",
       "      <td>RS-1</td>\n",
       "      <td>28</td>\n",
       "      <td>VAP1369</td>\n",
       "      <td>4</td>\n",
       "      <td>NaN</td>\n",
       "      <td>NaN</td>\n",
       "      <td>5249.0</td>\n",
       "      <td>1511000.0</td>\n",
       "      <td>86700.0</td>\n",
       "      <td>1965.0</td>\n",
       "      <td>...</td>\n",
       "      <td>0</td>\n",
       "      <td>0</td>\n",
       "      <td>0</td>\n",
       "      <td>0</td>\n",
       "      <td>0</td>\n",
       "      <td>0</td>\n",
       "      <td>0</td>\n",
       "      <td>1</td>\n",
       "      <td>0</td>\n",
       "      <td>0</td>\n",
       "    </tr>\n",
       "    <tr>\n",
       "      <th>4</th>\n",
       "      <td>RS-1</td>\n",
       "      <td>A</td>\n",
       "      <td>VAP16533</td>\n",
       "      <td>138</td>\n",
       "      <td>540</td>\n",
       "      <td>NaN</td>\n",
       "      <td>4411.0</td>\n",
       "      <td>4715000.0</td>\n",
       "      <td>257000.0</td>\n",
       "      <td>1925.0</td>\n",
       "      <td>...</td>\n",
       "      <td>0</td>\n",
       "      <td>0</td>\n",
       "      <td>0</td>\n",
       "      <td>0</td>\n",
       "      <td>0</td>\n",
       "      <td>0</td>\n",
       "      <td>0</td>\n",
       "      <td>1</td>\n",
       "      <td>0</td>\n",
       "      <td>0</td>\n",
       "    </tr>\n",
       "  </tbody>\n",
       "</table>\n",
       "<p>5 rows × 411 columns</p>\n",
       "</div>"
      ],
      "text/plain": [
       "  zoning_district lot      plan block district_lot from_civic_number  \\\n",
       "0            RS-1   8   VAP1220   202          NaN               NaN   \n",
       "1            RS-1  12   VAP2558    10          391               NaN   \n",
       "2            RT-2  27   VAP2324     5          647               NaN   \n",
       "3            RS-1  28   VAP1369     4          NaN               NaN   \n",
       "4            RS-1   A  VAP16533   138          540               NaN   \n",
       "\n",
       "   to_civic_number  current_land_value  current_improvement_value  year_built  \\\n",
       "0            628.0           1808000.0                    88300.0      1974.0   \n",
       "1            435.0           1771000.0                   156000.0      1912.0   \n",
       "2           6112.0           1189000.0                   314000.0      2005.0   \n",
       "3           5249.0           1511000.0                    86700.0      1965.0   \n",
       "4           4411.0           4715000.0                   257000.0      1925.0   \n",
       "\n",
       "   ...  street_windsor st  street_woodland dr  street_wylie st street_yew st  \\\n",
       "0  ...                  0                   0                0             0   \n",
       "1  ...                  0                   0                0             0   \n",
       "2  ...                  0                   0                0             0   \n",
       "3  ...                  0                   0                0             0   \n",
       "4  ...                  0                   0                0             0   \n",
       "\n",
       "   street_york ave  street_yukon st  zone_multiple dwelling  \\\n",
       "0                0                0                       0   \n",
       "1                0                0                       0   \n",
       "2                0                0                       0   \n",
       "3                0                0                       0   \n",
       "4                0                0                       0   \n",
       "\n",
       "   zone_one-family dwelling  zone_two-family dwelling  legal_strata  \n",
       "0                         1                         0             0  \n",
       "1                         1                         0             0  \n",
       "2                         0                         1             0  \n",
       "3                         1                         0             0  \n",
       "4                         1                         0             0  \n",
       "\n",
       "[5 rows x 411 columns]"
      ]
     },
     "execution_count": 546,
     "metadata": {},
     "output_type": "execute_result"
    }
   ],
   "source": [
    "# change all columns to lower-case\n",
    "df4.columns = [x.lower() for x in df4.columns]\n",
    "df4.head()"
   ]
  },
  {
   "cell_type": "code",
   "execution_count": 547,
   "id": "96d7d4d9",
   "metadata": {},
   "outputs": [
    {
     "data": {
      "text/plain": [
       "1    119504\n",
       "0     77745\n",
       "Name: legal_strata, dtype: int64"
      ]
     },
     "execution_count": 547,
     "metadata": {},
     "output_type": "execute_result"
    }
   ],
   "source": [
    "df4.legal_strata.value_counts()"
   ]
  },
  {
   "cell_type": "code",
   "execution_count": 548,
   "id": "cd3cefd3",
   "metadata": {},
   "outputs": [],
   "source": [
    "df4.drop(columns=[\"plan\", \"lot\", \"block\", \"district_lot\", \"from_civic_number\", \"to_civic_number\", \"current_improvement_value\",\"tax_levy\", \"neighbourhood_code\"], axis = 1, inplace = True)"
   ]
  },
  {
   "cell_type": "code",
   "execution_count": 549,
   "id": "45c9845b",
   "metadata": {},
   "outputs": [
    {
     "name": "stdout",
     "output_type": "stream",
     "text": [
      "<class 'pandas.core.frame.DataFrame'>\n",
      "Int64Index: 197249 entries, 0 to 218696\n",
      "Columns: 402 entries, zoning_district to legal_strata\n",
      "dtypes: float64(3), object(2), uint8(397)\n",
      "memory usage: 83.7+ MB\n"
     ]
    }
   ],
   "source": [
    "df4.info()"
   ]
  },
  {
   "cell_type": "markdown",
   "id": "89a4ee86",
   "metadata": {},
   "source": [
    "#### Postal Feature\n",
    "\n",
    "After splited make dummies"
   ]
  },
  {
   "cell_type": "code",
   "execution_count": 550,
   "id": "50dd06d9",
   "metadata": {},
   "outputs": [
    {
     "data": {
      "text/plain": [
       "V6B    18625\n",
       "V6Z    14220\n",
       "V5R    11224\n",
       "V6K     9047\n",
       "V5Z     8918\n",
       "V5T     8746\n",
       "V5N     8725\n",
       "V6E     8569\n",
       "V6P     8302\n",
       "V6J     8102\n",
       "V5Y     7543\n",
       "V5X     7233\n",
       "V5V     6563\n",
       "V5P     6349\n",
       "V6A     5776\n",
       "V5K     5680\n",
       "V6R     5634\n",
       "V5S     5536\n",
       "V6G     5240\n",
       "V5L     5052\n",
       "V6H     5011\n",
       "V6M     4942\n",
       "V5W     4761\n",
       "V5M     4701\n",
       "V6N     3698\n",
       "V6S     2875\n",
       "V6L     2847\n",
       "V6C     2007\n",
       "V6T       68\n",
       "Z          7\n",
       "V7X        2\n",
       "V7Y        1\n",
       "Name: postal, dtype: int64"
      ]
     },
     "execution_count": 550,
     "metadata": {},
     "output_type": "execute_result"
    }
   ],
   "source": [
    "df4.postal.value_counts()"
   ]
  },
  {
   "cell_type": "code",
   "execution_count": 551,
   "id": "3820cc6e",
   "metadata": {},
   "outputs": [],
   "source": [
    "dummy_features = pd.get_dummies(df4.postal,prefix = \"ZIP\", drop_first=True)\n",
    "df5 = pd.concat([df4, dummy_features], axis = 1)\n",
    "df5.drop(columns=[\"postal\"], axis = 1, inplace = True)"
   ]
  },
  {
   "cell_type": "code",
   "execution_count": 552,
   "id": "efe8d3db",
   "metadata": {},
   "outputs": [
    {
     "name": "stdout",
     "output_type": "stream",
     "text": [
      "<class 'pandas.core.frame.DataFrame'>\n",
      "Int64Index: 197249 entries, 0 to 218696\n",
      "Columns: 432 entries, zoning_district to ZIP_Z\n",
      "dtypes: float64(3), object(1), uint8(428)\n",
      "memory usage: 88.0+ MB\n"
     ]
    }
   ],
   "source": [
    "df5.info()"
   ]
  },
  {
   "cell_type": "markdown",
   "id": "fbfcc9d6",
   "metadata": {},
   "source": [
    "#### Zoning District Feature\n",
    "\n",
    "Group by codes and then create dummies"
   ]
  },
  {
   "cell_type": "code",
   "execution_count": 553,
   "id": "926da7b8",
   "metadata": {},
   "outputs": [],
   "source": [
    "df5.dropna(subset=['zoning_district'], inplace = True) "
   ]
  },
  {
   "cell_type": "code",
   "execution_count": 554,
   "id": "1d0a4a45",
   "metadata": {},
   "outputs": [],
   "source": [
    "df5.loc[df5.zoning_district.str.contains('CD-1*'), 'zoning_district'] = 'CD-1'\n",
    "df5.loc[df5.zoning_district.str.contains('RS*'), 'zoning_district'] = 'RS'\n",
    "df5.loc[df5.zoning_district.str.contains('C-.'), 'zoning_district'] = 'C'\n",
    "df5.loc[df5.zoning_district.str.contains('M-.'), 'zoning_district'] = 'M'\n",
    "df5.loc[df5.zoning_district.str.contains('I-.'), 'zoning_district'] = 'I'\n",
    "df5.loc[df5.zoning_district.str.contains('HA-.'), 'zoning_district'] = 'HA'"
   ]
  },
  {
   "cell_type": "code",
   "execution_count": 555,
   "id": "b2d39c51",
   "metadata": {},
   "outputs": [
    {
     "data": {
      "text/plain": [
       "RS       98598\n",
       "CD-1     54638\n",
       "C        19677\n",
       "DD       15417\n",
       "M         2495\n",
       "HA        2407\n",
       "I         1533\n",
       "FCCDD     1320\n",
       "DEOD       438\n",
       "BCPED      387\n",
       "FSHCA      334\n",
       "CWD          5\n",
       "Name: zoning_district, dtype: int64"
      ]
     },
     "execution_count": 555,
     "metadata": {},
     "output_type": "execute_result"
    }
   ],
   "source": [
    "df5.zoning_district.value_counts()"
   ]
  },
  {
   "cell_type": "code",
   "execution_count": 556,
   "id": "75dabc8e",
   "metadata": {},
   "outputs": [],
   "source": [
    "dummy_features = pd.get_dummies(df5.zoning_district,prefix = \"zone\", drop_first=True)\n",
    "df6 = pd.concat([df5, dummy_features], axis = 1)\n",
    "df6.drop(columns=[\"zoning_district\"], axis = 1, inplace = True)"
   ]
  },
  {
   "cell_type": "code",
   "execution_count": 557,
   "id": "5f21b2ef",
   "metadata": {},
   "outputs": [
    {
     "data": {
      "text/html": [
       "<div>\n",
       "<style scoped>\n",
       "    .dataframe tbody tr th:only-of-type {\n",
       "        vertical-align: middle;\n",
       "    }\n",
       "\n",
       "    .dataframe tbody tr th {\n",
       "        vertical-align: top;\n",
       "    }\n",
       "\n",
       "    .dataframe thead th {\n",
       "        text-align: right;\n",
       "    }\n",
       "</style>\n",
       "<table border=\"1\" class=\"dataframe\">\n",
       "  <thead>\n",
       "    <tr style=\"text-align: right;\">\n",
       "      <th></th>\n",
       "      <th>current_land_value</th>\n",
       "      <th>year_built</th>\n",
       "      <th>big_improvement_year</th>\n",
       "      <th>street_10th ave e</th>\n",
       "      <th>street_10th ave w</th>\n",
       "      <th>street_11th ave e</th>\n",
       "      <th>street_11th ave w</th>\n",
       "      <th>street_12th ave e</th>\n",
       "      <th>street_12th ave w</th>\n",
       "      <th>street_13th ave e</th>\n",
       "      <th>...</th>\n",
       "      <th>zone_CD-1</th>\n",
       "      <th>zone_CWD</th>\n",
       "      <th>zone_DD</th>\n",
       "      <th>zone_DEOD</th>\n",
       "      <th>zone_FCCDD</th>\n",
       "      <th>zone_FSHCA</th>\n",
       "      <th>zone_HA</th>\n",
       "      <th>zone_I</th>\n",
       "      <th>zone_M</th>\n",
       "      <th>zone_RS</th>\n",
       "    </tr>\n",
       "  </thead>\n",
       "  <tbody>\n",
       "    <tr>\n",
       "      <th>0</th>\n",
       "      <td>1808000.0</td>\n",
       "      <td>1974.0</td>\n",
       "      <td>1974.0</td>\n",
       "      <td>0</td>\n",
       "      <td>0</td>\n",
       "      <td>0</td>\n",
       "      <td>0</td>\n",
       "      <td>0</td>\n",
       "      <td>0</td>\n",
       "      <td>0</td>\n",
       "      <td>...</td>\n",
       "      <td>0</td>\n",
       "      <td>0</td>\n",
       "      <td>0</td>\n",
       "      <td>0</td>\n",
       "      <td>0</td>\n",
       "      <td>0</td>\n",
       "      <td>0</td>\n",
       "      <td>0</td>\n",
       "      <td>0</td>\n",
       "      <td>1</td>\n",
       "    </tr>\n",
       "    <tr>\n",
       "      <th>1</th>\n",
       "      <td>1771000.0</td>\n",
       "      <td>1912.0</td>\n",
       "      <td>1980.0</td>\n",
       "      <td>0</td>\n",
       "      <td>0</td>\n",
       "      <td>0</td>\n",
       "      <td>0</td>\n",
       "      <td>0</td>\n",
       "      <td>0</td>\n",
       "      <td>0</td>\n",
       "      <td>...</td>\n",
       "      <td>0</td>\n",
       "      <td>0</td>\n",
       "      <td>0</td>\n",
       "      <td>0</td>\n",
       "      <td>0</td>\n",
       "      <td>0</td>\n",
       "      <td>0</td>\n",
       "      <td>0</td>\n",
       "      <td>0</td>\n",
       "      <td>1</td>\n",
       "    </tr>\n",
       "    <tr>\n",
       "      <th>2</th>\n",
       "      <td>1189000.0</td>\n",
       "      <td>2005.0</td>\n",
       "      <td>2005.0</td>\n",
       "      <td>0</td>\n",
       "      <td>0</td>\n",
       "      <td>0</td>\n",
       "      <td>0</td>\n",
       "      <td>0</td>\n",
       "      <td>0</td>\n",
       "      <td>0</td>\n",
       "      <td>...</td>\n",
       "      <td>0</td>\n",
       "      <td>0</td>\n",
       "      <td>0</td>\n",
       "      <td>0</td>\n",
       "      <td>0</td>\n",
       "      <td>0</td>\n",
       "      <td>0</td>\n",
       "      <td>0</td>\n",
       "      <td>0</td>\n",
       "      <td>1</td>\n",
       "    </tr>\n",
       "    <tr>\n",
       "      <th>3</th>\n",
       "      <td>1511000.0</td>\n",
       "      <td>1965.0</td>\n",
       "      <td>1970.0</td>\n",
       "      <td>0</td>\n",
       "      <td>0</td>\n",
       "      <td>0</td>\n",
       "      <td>0</td>\n",
       "      <td>0</td>\n",
       "      <td>0</td>\n",
       "      <td>0</td>\n",
       "      <td>...</td>\n",
       "      <td>0</td>\n",
       "      <td>0</td>\n",
       "      <td>0</td>\n",
       "      <td>0</td>\n",
       "      <td>0</td>\n",
       "      <td>0</td>\n",
       "      <td>0</td>\n",
       "      <td>0</td>\n",
       "      <td>0</td>\n",
       "      <td>1</td>\n",
       "    </tr>\n",
       "    <tr>\n",
       "      <th>4</th>\n",
       "      <td>4715000.0</td>\n",
       "      <td>1925.0</td>\n",
       "      <td>1986.0</td>\n",
       "      <td>0</td>\n",
       "      <td>0</td>\n",
       "      <td>0</td>\n",
       "      <td>0</td>\n",
       "      <td>0</td>\n",
       "      <td>0</td>\n",
       "      <td>0</td>\n",
       "      <td>...</td>\n",
       "      <td>0</td>\n",
       "      <td>0</td>\n",
       "      <td>0</td>\n",
       "      <td>0</td>\n",
       "      <td>0</td>\n",
       "      <td>0</td>\n",
       "      <td>0</td>\n",
       "      <td>0</td>\n",
       "      <td>0</td>\n",
       "      <td>1</td>\n",
       "    </tr>\n",
       "  </tbody>\n",
       "</table>\n",
       "<p>5 rows × 442 columns</p>\n",
       "</div>"
      ],
      "text/plain": [
       "   current_land_value  year_built  big_improvement_year  street_10th ave e  \\\n",
       "0           1808000.0      1974.0                1974.0                  0   \n",
       "1           1771000.0      1912.0                1980.0                  0   \n",
       "2           1189000.0      2005.0                2005.0                  0   \n",
       "3           1511000.0      1965.0                1970.0                  0   \n",
       "4           4715000.0      1925.0                1986.0                  0   \n",
       "\n",
       "   street_10th ave w  street_11th ave e  street_11th ave w  street_12th ave e  \\\n",
       "0                  0                  0                  0                  0   \n",
       "1                  0                  0                  0                  0   \n",
       "2                  0                  0                  0                  0   \n",
       "3                  0                  0                  0                  0   \n",
       "4                  0                  0                  0                  0   \n",
       "\n",
       "   street_12th ave w  street_13th ave e  ...  zone_CD-1  zone_CWD  zone_DD  \\\n",
       "0                  0                  0  ...          0         0        0   \n",
       "1                  0                  0  ...          0         0        0   \n",
       "2                  0                  0  ...          0         0        0   \n",
       "3                  0                  0  ...          0         0        0   \n",
       "4                  0                  0  ...          0         0        0   \n",
       "\n",
       "   zone_DEOD  zone_FCCDD  zone_FSHCA  zone_HA  zone_I  zone_M  zone_RS  \n",
       "0          0           0           0        0       0       0        1  \n",
       "1          0           0           0        0       0       0        1  \n",
       "2          0           0           0        0       0       0        1  \n",
       "3          0           0           0        0       0       0        1  \n",
       "4          0           0           0        0       0       0        1  \n",
       "\n",
       "[5 rows x 442 columns]"
      ]
     },
     "execution_count": 557,
     "metadata": {},
     "output_type": "execute_result"
    }
   ],
   "source": [
    "df6.head()"
   ]
  },
  {
   "cell_type": "code",
   "execution_count": 558,
   "id": "d85b3754",
   "metadata": {},
   "outputs": [
    {
     "data": {
      "text/html": [
       "<div>\n",
       "<style scoped>\n",
       "    .dataframe tbody tr th:only-of-type {\n",
       "        vertical-align: middle;\n",
       "    }\n",
       "\n",
       "    .dataframe tbody tr th {\n",
       "        vertical-align: top;\n",
       "    }\n",
       "\n",
       "    .dataframe thead th {\n",
       "        text-align: right;\n",
       "    }\n",
       "</style>\n",
       "<table border=\"1\" class=\"dataframe\">\n",
       "  <thead>\n",
       "    <tr style=\"text-align: right;\">\n",
       "      <th></th>\n",
       "      <th>price</th>\n",
       "      <th>year_built</th>\n",
       "      <th>big_improvement_year</th>\n",
       "      <th>street_10th ave e</th>\n",
       "      <th>street_10th ave w</th>\n",
       "      <th>street_11th ave e</th>\n",
       "      <th>street_11th ave w</th>\n",
       "      <th>street_12th ave e</th>\n",
       "      <th>street_12th ave w</th>\n",
       "      <th>street_13th ave e</th>\n",
       "      <th>...</th>\n",
       "      <th>zone_CD-1</th>\n",
       "      <th>zone_CWD</th>\n",
       "      <th>zone_DD</th>\n",
       "      <th>zone_DEOD</th>\n",
       "      <th>zone_FCCDD</th>\n",
       "      <th>zone_FSHCA</th>\n",
       "      <th>zone_HA</th>\n",
       "      <th>zone_I</th>\n",
       "      <th>zone_M</th>\n",
       "      <th>zone_RS</th>\n",
       "    </tr>\n",
       "  </thead>\n",
       "  <tbody>\n",
       "    <tr>\n",
       "      <th>0</th>\n",
       "      <td>1808000.0</td>\n",
       "      <td>1974.0</td>\n",
       "      <td>1974.0</td>\n",
       "      <td>0</td>\n",
       "      <td>0</td>\n",
       "      <td>0</td>\n",
       "      <td>0</td>\n",
       "      <td>0</td>\n",
       "      <td>0</td>\n",
       "      <td>0</td>\n",
       "      <td>...</td>\n",
       "      <td>0</td>\n",
       "      <td>0</td>\n",
       "      <td>0</td>\n",
       "      <td>0</td>\n",
       "      <td>0</td>\n",
       "      <td>0</td>\n",
       "      <td>0</td>\n",
       "      <td>0</td>\n",
       "      <td>0</td>\n",
       "      <td>1</td>\n",
       "    </tr>\n",
       "    <tr>\n",
       "      <th>1</th>\n",
       "      <td>1771000.0</td>\n",
       "      <td>1912.0</td>\n",
       "      <td>1980.0</td>\n",
       "      <td>0</td>\n",
       "      <td>0</td>\n",
       "      <td>0</td>\n",
       "      <td>0</td>\n",
       "      <td>0</td>\n",
       "      <td>0</td>\n",
       "      <td>0</td>\n",
       "      <td>...</td>\n",
       "      <td>0</td>\n",
       "      <td>0</td>\n",
       "      <td>0</td>\n",
       "      <td>0</td>\n",
       "      <td>0</td>\n",
       "      <td>0</td>\n",
       "      <td>0</td>\n",
       "      <td>0</td>\n",
       "      <td>0</td>\n",
       "      <td>1</td>\n",
       "    </tr>\n",
       "    <tr>\n",
       "      <th>2</th>\n",
       "      <td>1189000.0</td>\n",
       "      <td>2005.0</td>\n",
       "      <td>2005.0</td>\n",
       "      <td>0</td>\n",
       "      <td>0</td>\n",
       "      <td>0</td>\n",
       "      <td>0</td>\n",
       "      <td>0</td>\n",
       "      <td>0</td>\n",
       "      <td>0</td>\n",
       "      <td>...</td>\n",
       "      <td>0</td>\n",
       "      <td>0</td>\n",
       "      <td>0</td>\n",
       "      <td>0</td>\n",
       "      <td>0</td>\n",
       "      <td>0</td>\n",
       "      <td>0</td>\n",
       "      <td>0</td>\n",
       "      <td>0</td>\n",
       "      <td>1</td>\n",
       "    </tr>\n",
       "    <tr>\n",
       "      <th>3</th>\n",
       "      <td>1511000.0</td>\n",
       "      <td>1965.0</td>\n",
       "      <td>1970.0</td>\n",
       "      <td>0</td>\n",
       "      <td>0</td>\n",
       "      <td>0</td>\n",
       "      <td>0</td>\n",
       "      <td>0</td>\n",
       "      <td>0</td>\n",
       "      <td>0</td>\n",
       "      <td>...</td>\n",
       "      <td>0</td>\n",
       "      <td>0</td>\n",
       "      <td>0</td>\n",
       "      <td>0</td>\n",
       "      <td>0</td>\n",
       "      <td>0</td>\n",
       "      <td>0</td>\n",
       "      <td>0</td>\n",
       "      <td>0</td>\n",
       "      <td>1</td>\n",
       "    </tr>\n",
       "    <tr>\n",
       "      <th>4</th>\n",
       "      <td>4715000.0</td>\n",
       "      <td>1925.0</td>\n",
       "      <td>1986.0</td>\n",
       "      <td>0</td>\n",
       "      <td>0</td>\n",
       "      <td>0</td>\n",
       "      <td>0</td>\n",
       "      <td>0</td>\n",
       "      <td>0</td>\n",
       "      <td>0</td>\n",
       "      <td>...</td>\n",
       "      <td>0</td>\n",
       "      <td>0</td>\n",
       "      <td>0</td>\n",
       "      <td>0</td>\n",
       "      <td>0</td>\n",
       "      <td>0</td>\n",
       "      <td>0</td>\n",
       "      <td>0</td>\n",
       "      <td>0</td>\n",
       "      <td>1</td>\n",
       "    </tr>\n",
       "  </tbody>\n",
       "</table>\n",
       "<p>5 rows × 442 columns</p>\n",
       "</div>"
      ],
      "text/plain": [
       "       price  year_built  big_improvement_year  street_10th ave e  \\\n",
       "0  1808000.0      1974.0                1974.0                  0   \n",
       "1  1771000.0      1912.0                1980.0                  0   \n",
       "2  1189000.0      2005.0                2005.0                  0   \n",
       "3  1511000.0      1965.0                1970.0                  0   \n",
       "4  4715000.0      1925.0                1986.0                  0   \n",
       "\n",
       "   street_10th ave w  street_11th ave e  street_11th ave w  street_12th ave e  \\\n",
       "0                  0                  0                  0                  0   \n",
       "1                  0                  0                  0                  0   \n",
       "2                  0                  0                  0                  0   \n",
       "3                  0                  0                  0                  0   \n",
       "4                  0                  0                  0                  0   \n",
       "\n",
       "   street_12th ave w  street_13th ave e  ...  zone_CD-1  zone_CWD  zone_DD  \\\n",
       "0                  0                  0  ...          0         0        0   \n",
       "1                  0                  0  ...          0         0        0   \n",
       "2                  0                  0  ...          0         0        0   \n",
       "3                  0                  0  ...          0         0        0   \n",
       "4                  0                  0  ...          0         0        0   \n",
       "\n",
       "   zone_DEOD  zone_FCCDD  zone_FSHCA  zone_HA  zone_I  zone_M  zone_RS  \n",
       "0          0           0           0        0       0       0        1  \n",
       "1          0           0           0        0       0       0        1  \n",
       "2          0           0           0        0       0       0        1  \n",
       "3          0           0           0        0       0       0        1  \n",
       "4          0           0           0        0       0       0        1  \n",
       "\n",
       "[5 rows x 442 columns]"
      ]
     },
     "execution_count": 558,
     "metadata": {},
     "output_type": "execute_result"
    }
   ],
   "source": [
    "df6.rename(columns = {'zone_multiple dwelling':'multiple dwelling'},inplace = True)\n",
    "df6.rename(columns = {'zone_one-family dwelling':'one-family dwelling'},inplace = True)\n",
    "df6.rename(columns = {'zone_two-family dwelling':'two-family dwelling'},inplace = True)\n",
    "df6.rename(columns = {'current_land_value':'price'},inplace = True)\n",
    "df6.head()"
   ]
  },
  {
   "cell_type": "code",
   "execution_count": 559,
   "id": "7bd9ec0d",
   "metadata": {},
   "outputs": [
    {
     "data": {
      "text/plain": [
       "price                     0\n",
       "year_built              849\n",
       "big_improvement_year    849\n",
       "street_10th ave e         0\n",
       "street_10th ave w         0\n",
       "                       ... \n",
       "zone_FSHCA                0\n",
       "zone_HA                   0\n",
       "zone_I                    0\n",
       "zone_M                    0\n",
       "zone_RS                   0\n",
       "Length: 442, dtype: int64"
      ]
     },
     "execution_count": 559,
     "metadata": {},
     "output_type": "execute_result"
    }
   ],
   "source": [
    "df6.isnull().sum()"
   ]
  },
  {
   "cell_type": "code",
   "execution_count": 560,
   "id": "b273e937",
   "metadata": {},
   "outputs": [],
   "source": [
    "df6.dropna(subset=['year_built', 'big_improvement_year'], how = 'all', inplace = True)"
   ]
  },
  {
   "cell_type": "code",
   "execution_count": 561,
   "id": "04893d48",
   "metadata": {},
   "outputs": [
    {
     "data": {
      "text/plain": [
       "0"
      ]
     },
     "execution_count": 561,
     "metadata": {},
     "output_type": "execute_result"
    }
   ],
   "source": [
    "df6.isnull().sum().sum()"
   ]
  },
  {
   "cell_type": "markdown",
   "id": "edaf9018",
   "metadata": {},
   "source": [
    "### Log Transformation\n",
    "\n",
    "Dummy features are not to be transformed"
   ]
  },
  {
   "cell_type": "code",
   "execution_count": 562,
   "id": "f0f5e1ac",
   "metadata": {},
   "outputs": [],
   "source": [
    "df7 = df6[['price', 'year_built', 'big_improvement_year']].copy()"
   ]
  },
  {
   "cell_type": "code",
   "execution_count": 563,
   "id": "538ef217",
   "metadata": {},
   "outputs": [],
   "source": [
    "log = np.log1p(df7)"
   ]
  },
  {
   "cell_type": "code",
   "execution_count": 564,
   "id": "92e780d9",
   "metadata": {},
   "outputs": [
    {
     "data": {
      "text/html": [
       "<div>\n",
       "<style scoped>\n",
       "    .dataframe tbody tr th:only-of-type {\n",
       "        vertical-align: middle;\n",
       "    }\n",
       "\n",
       "    .dataframe tbody tr th {\n",
       "        vertical-align: top;\n",
       "    }\n",
       "\n",
       "    .dataframe thead th {\n",
       "        text-align: right;\n",
       "    }\n",
       "</style>\n",
       "<table border=\"1\" class=\"dataframe\">\n",
       "  <thead>\n",
       "    <tr style=\"text-align: right;\">\n",
       "      <th></th>\n",
       "      <th>price</th>\n",
       "      <th>year_built</th>\n",
       "      <th>big_improvement_year</th>\n",
       "    </tr>\n",
       "  </thead>\n",
       "  <tbody>\n",
       "    <tr>\n",
       "      <th>0</th>\n",
       "      <td>14.407732</td>\n",
       "      <td>7.588324</td>\n",
       "      <td>7.588324</td>\n",
       "    </tr>\n",
       "    <tr>\n",
       "      <th>1</th>\n",
       "      <td>14.387055</td>\n",
       "      <td>7.556428</td>\n",
       "      <td>7.591357</td>\n",
       "    </tr>\n",
       "    <tr>\n",
       "      <th>2</th>\n",
       "      <td>13.988624</td>\n",
       "      <td>7.603898</td>\n",
       "      <td>7.603898</td>\n",
       "    </tr>\n",
       "    <tr>\n",
       "      <th>3</th>\n",
       "      <td>14.228283</td>\n",
       "      <td>7.583756</td>\n",
       "      <td>7.586296</td>\n",
       "    </tr>\n",
       "    <tr>\n",
       "      <th>4</th>\n",
       "      <td>15.366260</td>\n",
       "      <td>7.563201</td>\n",
       "      <td>7.594381</td>\n",
       "    </tr>\n",
       "  </tbody>\n",
       "</table>\n",
       "</div>"
      ],
      "text/plain": [
       "       price  year_built  big_improvement_year\n",
       "0  14.407732    7.588324              7.588324\n",
       "1  14.387055    7.556428              7.591357\n",
       "2  13.988624    7.603898              7.603898\n",
       "3  14.228283    7.583756              7.586296\n",
       "4  15.366260    7.563201              7.594381"
      ]
     },
     "execution_count": 564,
     "metadata": {},
     "output_type": "execute_result"
    }
   ],
   "source": [
    "log.head()"
   ]
  },
  {
   "cell_type": "code",
   "execution_count": 565,
   "id": "a8232312",
   "metadata": {},
   "outputs": [],
   "source": [
    "df6.drop(columns=['price', 'year_built', 'big_improvement_year'], axis = 1, inplace = True)"
   ]
  },
  {
   "cell_type": "code",
   "execution_count": 566,
   "id": "9324c000",
   "metadata": {},
   "outputs": [],
   "source": [
    "log_df = pd.concat([log, df6], axis = 1)"
   ]
  },
  {
   "cell_type": "code",
   "execution_count": 567,
   "id": "372441df",
   "metadata": {},
   "outputs": [
    {
     "data": {
      "text/html": [
       "<div>\n",
       "<style scoped>\n",
       "    .dataframe tbody tr th:only-of-type {\n",
       "        vertical-align: middle;\n",
       "    }\n",
       "\n",
       "    .dataframe tbody tr th {\n",
       "        vertical-align: top;\n",
       "    }\n",
       "\n",
       "    .dataframe thead th {\n",
       "        text-align: right;\n",
       "    }\n",
       "</style>\n",
       "<table border=\"1\" class=\"dataframe\">\n",
       "  <thead>\n",
       "    <tr style=\"text-align: right;\">\n",
       "      <th></th>\n",
       "      <th>price</th>\n",
       "      <th>year_built</th>\n",
       "      <th>big_improvement_year</th>\n",
       "      <th>street_10th ave e</th>\n",
       "      <th>street_10th ave w</th>\n",
       "      <th>street_11th ave e</th>\n",
       "      <th>street_11th ave w</th>\n",
       "      <th>street_12th ave e</th>\n",
       "      <th>street_12th ave w</th>\n",
       "      <th>street_13th ave e</th>\n",
       "      <th>...</th>\n",
       "      <th>zone_CD-1</th>\n",
       "      <th>zone_CWD</th>\n",
       "      <th>zone_DD</th>\n",
       "      <th>zone_DEOD</th>\n",
       "      <th>zone_FCCDD</th>\n",
       "      <th>zone_FSHCA</th>\n",
       "      <th>zone_HA</th>\n",
       "      <th>zone_I</th>\n",
       "      <th>zone_M</th>\n",
       "      <th>zone_RS</th>\n",
       "    </tr>\n",
       "  </thead>\n",
       "  <tbody>\n",
       "    <tr>\n",
       "      <th>0</th>\n",
       "      <td>14.407732</td>\n",
       "      <td>7.588324</td>\n",
       "      <td>7.588324</td>\n",
       "      <td>0</td>\n",
       "      <td>0</td>\n",
       "      <td>0</td>\n",
       "      <td>0</td>\n",
       "      <td>0</td>\n",
       "      <td>0</td>\n",
       "      <td>0</td>\n",
       "      <td>...</td>\n",
       "      <td>0</td>\n",
       "      <td>0</td>\n",
       "      <td>0</td>\n",
       "      <td>0</td>\n",
       "      <td>0</td>\n",
       "      <td>0</td>\n",
       "      <td>0</td>\n",
       "      <td>0</td>\n",
       "      <td>0</td>\n",
       "      <td>1</td>\n",
       "    </tr>\n",
       "    <tr>\n",
       "      <th>1</th>\n",
       "      <td>14.387055</td>\n",
       "      <td>7.556428</td>\n",
       "      <td>7.591357</td>\n",
       "      <td>0</td>\n",
       "      <td>0</td>\n",
       "      <td>0</td>\n",
       "      <td>0</td>\n",
       "      <td>0</td>\n",
       "      <td>0</td>\n",
       "      <td>0</td>\n",
       "      <td>...</td>\n",
       "      <td>0</td>\n",
       "      <td>0</td>\n",
       "      <td>0</td>\n",
       "      <td>0</td>\n",
       "      <td>0</td>\n",
       "      <td>0</td>\n",
       "      <td>0</td>\n",
       "      <td>0</td>\n",
       "      <td>0</td>\n",
       "      <td>1</td>\n",
       "    </tr>\n",
       "    <tr>\n",
       "      <th>2</th>\n",
       "      <td>13.988624</td>\n",
       "      <td>7.603898</td>\n",
       "      <td>7.603898</td>\n",
       "      <td>0</td>\n",
       "      <td>0</td>\n",
       "      <td>0</td>\n",
       "      <td>0</td>\n",
       "      <td>0</td>\n",
       "      <td>0</td>\n",
       "      <td>0</td>\n",
       "      <td>...</td>\n",
       "      <td>0</td>\n",
       "      <td>0</td>\n",
       "      <td>0</td>\n",
       "      <td>0</td>\n",
       "      <td>0</td>\n",
       "      <td>0</td>\n",
       "      <td>0</td>\n",
       "      <td>0</td>\n",
       "      <td>0</td>\n",
       "      <td>1</td>\n",
       "    </tr>\n",
       "    <tr>\n",
       "      <th>3</th>\n",
       "      <td>14.228283</td>\n",
       "      <td>7.583756</td>\n",
       "      <td>7.586296</td>\n",
       "      <td>0</td>\n",
       "      <td>0</td>\n",
       "      <td>0</td>\n",
       "      <td>0</td>\n",
       "      <td>0</td>\n",
       "      <td>0</td>\n",
       "      <td>0</td>\n",
       "      <td>...</td>\n",
       "      <td>0</td>\n",
       "      <td>0</td>\n",
       "      <td>0</td>\n",
       "      <td>0</td>\n",
       "      <td>0</td>\n",
       "      <td>0</td>\n",
       "      <td>0</td>\n",
       "      <td>0</td>\n",
       "      <td>0</td>\n",
       "      <td>1</td>\n",
       "    </tr>\n",
       "    <tr>\n",
       "      <th>4</th>\n",
       "      <td>15.366260</td>\n",
       "      <td>7.563201</td>\n",
       "      <td>7.594381</td>\n",
       "      <td>0</td>\n",
       "      <td>0</td>\n",
       "      <td>0</td>\n",
       "      <td>0</td>\n",
       "      <td>0</td>\n",
       "      <td>0</td>\n",
       "      <td>0</td>\n",
       "      <td>...</td>\n",
       "      <td>0</td>\n",
       "      <td>0</td>\n",
       "      <td>0</td>\n",
       "      <td>0</td>\n",
       "      <td>0</td>\n",
       "      <td>0</td>\n",
       "      <td>0</td>\n",
       "      <td>0</td>\n",
       "      <td>0</td>\n",
       "      <td>1</td>\n",
       "    </tr>\n",
       "  </tbody>\n",
       "</table>\n",
       "<p>5 rows × 442 columns</p>\n",
       "</div>"
      ],
      "text/plain": [
       "       price  year_built  big_improvement_year  street_10th ave e  \\\n",
       "0  14.407732    7.588324              7.588324                  0   \n",
       "1  14.387055    7.556428              7.591357                  0   \n",
       "2  13.988624    7.603898              7.603898                  0   \n",
       "3  14.228283    7.583756              7.586296                  0   \n",
       "4  15.366260    7.563201              7.594381                  0   \n",
       "\n",
       "   street_10th ave w  street_11th ave e  street_11th ave w  street_12th ave e  \\\n",
       "0                  0                  0                  0                  0   \n",
       "1                  0                  0                  0                  0   \n",
       "2                  0                  0                  0                  0   \n",
       "3                  0                  0                  0                  0   \n",
       "4                  0                  0                  0                  0   \n",
       "\n",
       "   street_12th ave w  street_13th ave e  ...  zone_CD-1  zone_CWD  zone_DD  \\\n",
       "0                  0                  0  ...          0         0        0   \n",
       "1                  0                  0  ...          0         0        0   \n",
       "2                  0                  0  ...          0         0        0   \n",
       "3                  0                  0  ...          0         0        0   \n",
       "4                  0                  0  ...          0         0        0   \n",
       "\n",
       "   zone_DEOD  zone_FCCDD  zone_FSHCA  zone_HA  zone_I  zone_M  zone_RS  \n",
       "0          0           0           0        0       0       0        1  \n",
       "1          0           0           0        0       0       0        1  \n",
       "2          0           0           0        0       0       0        1  \n",
       "3          0           0           0        0       0       0        1  \n",
       "4          0           0           0        0       0       0        1  \n",
       "\n",
       "[5 rows x 442 columns]"
      ]
     },
     "execution_count": 567,
     "metadata": {},
     "output_type": "execute_result"
    }
   ],
   "source": [
    "log_df.head()"
   ]
  },
  {
   "cell_type": "markdown",
   "id": "a21f4e49",
   "metadata": {},
   "source": [
    "### Univariate Analysis"
   ]
  },
  {
   "cell_type": "code",
   "execution_count": 568,
   "id": "600f2e67",
   "metadata": {},
   "outputs": [
    {
     "name": "stderr",
     "output_type": "stream",
     "text": [
      "C:\\Users\\dimit\\anaconda3\\lib\\site-packages\\seaborn\\distributions.py:2619: FutureWarning: `distplot` is a deprecated function and will be removed in a future version. Please adapt your code to use either `displot` (a figure-level function with similar flexibility) or `histplot` (an axes-level function for histograms).\n",
      "  warnings.warn(msg, FutureWarning)\n"
     ]
    },
    {
     "data": {
      "text/plain": [
       "<AxesSubplot:xlabel='price', ylabel='Density'>"
      ]
     },
     "execution_count": 568,
     "metadata": {},
     "output_type": "execute_result"
    },
    {
     "data": {
      "image/png": "[encoded data removed]",
      "text/plain": [
       "<Figure size 432x288 with 1 Axes>"
      ]
     },
     "metadata": {
      "needs_background": "light"
     },
     "output_type": "display_data"
    }
   ],
   "source": [
    "sns.distplot(log_df.price, fit = norm)"
   ]
  },
  {
   "cell_type": "markdown",
   "id": "b5eae062",
   "metadata": {},
   "source": [
    "We need to remove the outliers under 10 and over 17"
   ]
  },
  {
   "cell_type": "code",
   "execution_count": 569,
   "id": "0c12250e",
   "metadata": {},
   "outputs": [],
   "source": [
    "log_df.drop(log_df.loc[log_df['price']<10].index, inplace=True)\n",
    "log_df.drop(log_df.loc[log_df['price']>17].index, inplace=True)"
   ]
  },
  {
   "cell_type": "code",
   "execution_count": 570,
   "id": "e17c216e",
   "metadata": {},
   "outputs": [
    {
     "name": "stderr",
     "output_type": "stream",
     "text": [
      "C:\\Users\\dimit\\anaconda3\\lib\\site-packages\\seaborn\\distributions.py:2619: FutureWarning: `distplot` is a deprecated function and will be removed in a future version. Please adapt your code to use either `displot` (a figure-level function with similar flexibility) or `histplot` (an axes-level function for histograms).\n",
      "  warnings.warn(msg, FutureWarning)\n"
     ]
    },
    {
     "data": {
      "text/plain": [
       "<AxesSubplot:xlabel='price', ylabel='Density'>"
      ]
     },
     "execution_count": 570,
     "metadata": {},
     "output_type": "execute_result"
    },
    {
     "data": {
      "image/png": "[encoded data removed]",
      "text/plain": [
       "<Figure size 432x288 with 1 Axes>"
      ]
     },
     "metadata": {
      "needs_background": "light"
     },
     "output_type": "display_data"
    }
   ],
   "source": [
    "sns.distplot(log_df.price, fit = norm)"
   ]
  },
  {
   "cell_type": "markdown",
   "id": "c43b7694",
   "metadata": {},
   "source": [
    "The price kind of follows a normal distribution"
   ]
  },
  {
   "cell_type": "code",
   "execution_count": 571,
   "id": "bcba9ddf",
   "metadata": {},
   "outputs": [
    {
     "name": "stderr",
     "output_type": "stream",
     "text": [
      "C:\\Users\\dimit\\anaconda3\\lib\\site-packages\\seaborn\\distributions.py:2619: FutureWarning: `distplot` is a deprecated function and will be removed in a future version. Please adapt your code to use either `displot` (a figure-level function with similar flexibility) or `histplot` (an axes-level function for histograms).\n",
      "  warnings.warn(msg, FutureWarning)\n"
     ]
    },
    {
     "data": {
      "text/plain": [
       "<AxesSubplot:xlabel='year_built', ylabel='Density'>"
      ]
     },
     "execution_count": 571,
     "metadata": {},
     "output_type": "execute_result"
    },
    {
     "data": {
      "image/png": "[encoded data removed]",
      "text/plain": [
       "<Figure size 432x288 with 1 Axes>"
      ]
     },
     "metadata": {
      "needs_background": "light"
     },
     "output_type": "display_data"
    }
   ],
   "source": [
    "sns.distplot(log_df.year_built, fit = norm)"
   ]
  },
  {
   "cell_type": "markdown",
   "id": "26a1c244",
   "metadata": {},
   "source": [
    "We need to remove the outliers under 7.54"
   ]
  },
  {
   "cell_type": "code",
   "execution_count": 572,
   "id": "8152ca1b",
   "metadata": {},
   "outputs": [],
   "source": [
    "log_df.drop(log_df.loc[log_df['year_built']<7.54].index, inplace=True)"
   ]
  },
  {
   "cell_type": "code",
   "execution_count": 573,
   "id": "49aafbf1",
   "metadata": {},
   "outputs": [
    {
     "name": "stderr",
     "output_type": "stream",
     "text": [
      "C:\\Users\\dimit\\anaconda3\\lib\\site-packages\\seaborn\\distributions.py:2619: FutureWarning: `distplot` is a deprecated function and will be removed in a future version. Please adapt your code to use either `displot` (a figure-level function with similar flexibility) or `histplot` (an axes-level function for histograms).\n",
      "  warnings.warn(msg, FutureWarning)\n"
     ]
    },
    {
     "data": {
      "text/plain": [
       "<AxesSubplot:xlabel='year_built', ylabel='Density'>"
      ]
     },
     "execution_count": 573,
     "metadata": {},
     "output_type": "execute_result"
    },
    {
     "data": {
      "image/png": "[encoded data removed]",
      "text/plain": [
       "<Figure size 432x288 with 1 Axes>"
      ]
     },
     "metadata": {
      "needs_background": "light"
     },
     "output_type": "display_data"
    }
   ],
   "source": [
    "sns.distplot(log_df.year_built, fit = norm)"
   ]
  },
  {
   "cell_type": "markdown",
   "id": "ea88a955",
   "metadata": {},
   "source": [
    "Although the year_built does not follow a normal distribution the records have more lots/buildings that are newer"
   ]
  },
  {
   "cell_type": "code",
   "execution_count": 574,
   "id": "5c03512c",
   "metadata": {},
   "outputs": [
    {
     "name": "stderr",
     "output_type": "stream",
     "text": [
      "C:\\Users\\dimit\\anaconda3\\lib\\site-packages\\seaborn\\distributions.py:2619: FutureWarning: `distplot` is a deprecated function and will be removed in a future version. Please adapt your code to use either `displot` (a figure-level function with similar flexibility) or `histplot` (an axes-level function for histograms).\n",
      "  warnings.warn(msg, FutureWarning)\n"
     ]
    },
    {
     "data": {
      "text/plain": [
       "<AxesSubplot:xlabel='big_improvement_year', ylabel='Density'>"
      ]
     },
     "execution_count": 574,
     "metadata": {},
     "output_type": "execute_result"
    },
    {
     "data": {
      "image/png": "[encoded data removed]",
      "text/plain": [
       "<Figure size 432x288 with 1 Axes>"
      ]
     },
     "metadata": {
      "needs_background": "light"
     },
     "output_type": "display_data"
    }
   ],
   "source": [
    "sns.distplot(log_df.big_improvement_year, fit = norm)"
   ]
  },
  {
   "cell_type": "markdown",
   "id": "5c820749",
   "metadata": {},
   "source": [
    "We need to remove the outliers under 7.56"
   ]
  },
  {
   "cell_type": "code",
   "execution_count": 575,
   "id": "0c781735",
   "metadata": {},
   "outputs": [],
   "source": [
    "log_df.drop(log_df.loc[log_df['big_improvement_year']<7.56].index, inplace=True)"
   ]
  },
  {
   "cell_type": "code",
   "execution_count": 576,
   "id": "3c0b81be",
   "metadata": {},
   "outputs": [
    {
     "name": "stderr",
     "output_type": "stream",
     "text": [
      "C:\\Users\\dimit\\anaconda3\\lib\\site-packages\\seaborn\\distributions.py:2619: FutureWarning: `distplot` is a deprecated function and will be removed in a future version. Please adapt your code to use either `displot` (a figure-level function with similar flexibility) or `histplot` (an axes-level function for histograms).\n",
      "  warnings.warn(msg, FutureWarning)\n"
     ]
    },
    {
     "data": {
      "text/plain": [
       "<AxesSubplot:xlabel='big_improvement_year', ylabel='Density'>"
      ]
     },
     "execution_count": 576,
     "metadata": {},
     "output_type": "execute_result"
    },
    {
     "data": {
      "image/png": "[encoded data removed]",
      "text/plain": [
       "<Figure size 432x288 with 1 Axes>"
      ]
     },
     "metadata": {
      "needs_background": "light"
     },
     "output_type": "display_data"
    }
   ],
   "source": [
    "sns.distplot(log_df.big_improvement_year, fit = norm)"
   ]
  },
  {
   "cell_type": "markdown",
   "id": "c765908b",
   "metadata": {},
   "source": [
    "Although the big_improvemnt does not follow a normal distribution the records have more lots/buildings that are newer. Maybe if we had data of the last one and a half year it could follow a normal distribution. (The data is of January 2020)"
   ]
  },
  {
   "cell_type": "code",
   "execution_count": 577,
   "id": "0085d879",
   "metadata": {},
   "outputs": [
    {
     "data": {
      "text/plain": [
       "194745"
      ]
     },
     "execution_count": 577,
     "metadata": {},
     "output_type": "execute_result"
    }
   ],
   "source": [
    "len(log_df.index)"
   ]
  },
  {
   "cell_type": "markdown",
   "id": "1ebd9d44",
   "metadata": {},
   "source": [
    "### Multivariate Analysis"
   ]
  },
  {
   "cell_type": "code",
   "execution_count": 578,
   "id": "94eefac6",
   "metadata": {},
   "outputs": [
    {
     "data": {
      "text/plain": [
       "<AxesSubplot:xlabel='year_built', ylabel='price'>"
      ]
     },
     "execution_count": 578,
     "metadata": {},
     "output_type": "execute_result"
    },
    {
     "data": {
      "image/png": "[encoded data removed]",
      "text/plain": [
       "<Figure size 432x288 with 1 Axes>"
      ]
     },
     "metadata": {
      "needs_background": "light"
     },
     "output_type": "display_data"
    }
   ],
   "source": [
    "sns.scatterplot(data = log_df, x = \"year_built\", y = \"price\")"
   ]
  },
  {
   "cell_type": "code",
   "execution_count": 579,
   "id": "b777a910",
   "metadata": {},
   "outputs": [
    {
     "data": {
      "text/plain": [
       "<AxesSubplot:xlabel='big_improvement_year', ylabel='price'>"
      ]
     },
     "execution_count": 579,
     "metadata": {},
     "output_type": "execute_result"
    },
    {
     "data": {
      "image/png": "[encoded data removed]",
      "text/plain": [
       "<Figure size 432x288 with 1 Axes>"
      ]
     },
     "metadata": {
      "needs_background": "light"
     },
     "output_type": "display_data"
    }
   ],
   "source": [
    "sns.scatterplot(data = log_df, x = \"big_improvement_year\", y = \"price\")"
   ]
  },
  {
   "cell_type": "markdown",
   "id": "edf10bfb",
   "metadata": {},
   "source": [
    "From the two scatterplots we cannot see any clear relationship. \n",
    "\n",
    "- From both of them we can understand that the newer the record\n",
    "  the higher the density of the dataset.\n",
    "\n",
    "- There are not many cheap old records"
   ]
  },
  {
   "cell_type": "markdown",
   "id": "6b154af8",
   "metadata": {},
   "source": [
    "### Save prepared dataset"
   ]
  },
  {
   "cell_type": "code",
   "execution_count": 580,
   "id": "3e64ca28",
   "metadata": {},
   "outputs": [],
   "source": [
    "log_df.to_csv('Dataset\\property-tax-report-prepared.csv', index = False)"
   ]
  },
  {
   "cell_type": "markdown",
   "id": "7f71c613",
   "metadata": {},
   "source": [
    "### Feature Selection"
   ]
  },
  {
   "cell_type": "code",
   "execution_count": 581,
   "id": "dfe1be0b",
   "metadata": {},
   "outputs": [],
   "source": [
    "X = log_df.drop('price', axis=1) \n",
    "y = log_df['price'] \n",
    "\n",
    "X_train, X_test, y_train, y_test = train_test_split(X, y, test_size=0.4, random_state=42)"
   ]
  },
  {
   "cell_type": "markdown",
   "id": "460191a8",
   "metadata": {},
   "source": [
    "#### Pipeline (67 mins)\n",
    "\n",
    "- 7 different models \n",
    "- Two scalers used (results of the MinMaxScaler in report)\n",
    "- The if in the end provides the best_model from R^2.\n",
    "- Random Forest Selection is used after the bad results of variance threshold."
   ]
  },
  {
   "cell_type": "code",
   "execution_count": 582,
   "id": "2d4d1851",
   "metadata": {},
   "outputs": [
    {
     "name": "stdout",
     "output_type": "stream",
     "text": [
      "[Pipeline] ............... (step 1 of 3) Processing sfm, total= 9.4min\n",
      "[Pipeline] ............ (step 2 of 3) Processing scaler, total=   0.1s\n",
      "[Pipeline] ......... (step 3 of 3) Processing regressor, total=   0.1s\n",
      "[Pipeline] ............... (step 1 of 3) Processing sfm, total= 8.7min\n",
      "[Pipeline] ............ (step 2 of 3) Processing scaler, total=   0.1s\n",
      "[Pipeline] ......... (step 3 of 3) Processing regressor, total=   0.3s\n",
      "[Pipeline] ............... (step 1 of 3) Processing sfm, total= 8.3min\n",
      "[Pipeline] ............ (step 2 of 3) Processing scaler, total=   0.1s\n",
      "[Pipeline] ......... (step 3 of 3) Processing regressor, total=   0.1s\n",
      "[Pipeline] ............... (step 1 of 3) Processing sfm, total= 8.5min\n",
      "[Pipeline] ............ (step 2 of 3) Processing scaler, total=   0.1s\n",
      "[Pipeline] ......... (step 3 of 3) Processing regressor, total=   9.0s\n",
      "[Pipeline] ............... (step 1 of 3) Processing sfm, total= 8.8min\n",
      "[Pipeline] ............ (step 2 of 3) Processing scaler, total=   0.1s\n",
      "[Pipeline] ......... (step 3 of 3) Processing regressor, total=   7.2s\n",
      "[Pipeline] ............... (step 1 of 3) Processing sfm, total= 9.1min\n",
      "[Pipeline] ............ (step 2 of 3) Processing scaler, total=   0.1s\n",
      "[Pipeline] ......... (step 3 of 3) Processing regressor, total=   5.6s\n",
      "[Pipeline] ............... (step 1 of 3) Processing sfm, total=10.2min\n",
      "[Pipeline] ............ (step 2 of 3) Processing scaler, total=   0.1s\n",
      "[Pipeline] ......... (step 3 of 3) Processing regressor, total=   2.2s\n"
     ]
    }
   ],
   "source": [
    "names = [\n",
    "    \"linear regression\", \"SGD regressor\", \"Decision Tree Regressor\", \"Gradient boosting regressor\", \n",
    "    \"Random forest regressor\", \"Ada boost regressor\", \"XGBoost regressor\"\n",
    "]\n",
    "r2 = []\n",
    "rmse = []\n",
    "regressors = [\n",
    "    LinearRegression(), SGDRegressor(max_iter=1000, tol=1e-3), DecisionTreeRegressor(max_depth=3), GradientBoostingRegressor(),\n",
    "    RandomForestRegressor(n_estimators=100, max_depth=3), AdaBoostRegressor(n_estimators=100), XGBRegressor(n_estimators=100), \n",
    "]\n",
    "\n",
    "best_score = 0\n",
    "\n",
    "for rgb in regressors:\n",
    "    \n",
    "    pipe = Pipeline([('sfm', SelectFromModel(estimator=RandomForestRegressor())),\n",
    "                         ('scaler', RobustScaler()),\n",
    "                         ('regressor', rgb)], verbose = True)\n",
    "    pipe.fit(X_train, y_train)\n",
    "    y_pred = pipe.predict(X_test)\n",
    "    i = pipe.score(X_test, y_test)\n",
    "    r2.append(pipe.score(X_test, y_test))\n",
    "    rmse.append(mean_squared_error(y_test, y_pred, squared=False))\n",
    "    if i > best_score:\n",
    "        best_score = i\n",
    "        best_model = pipe"
   ]
  },
  {
   "cell_type": "code",
   "execution_count": 583,
   "id": "9499abce",
   "metadata": {},
   "outputs": [],
   "source": [
    "res_df = pd.DataFrame(zip(names, r2, rmse), columns=['Regressors', 'R2 score', \"RMSE\"])"
   ]
  },
  {
   "cell_type": "code",
   "execution_count": 584,
   "id": "3e93ca23",
   "metadata": {},
   "outputs": [
    {
     "data": {
      "text/html": [
       "<div>\n",
       "<style scoped>\n",
       "    .dataframe tbody tr th:only-of-type {\n",
       "        vertical-align: middle;\n",
       "    }\n",
       "\n",
       "    .dataframe tbody tr th {\n",
       "        vertical-align: top;\n",
       "    }\n",
       "\n",
       "    .dataframe thead th {\n",
       "        text-align: right;\n",
       "    }\n",
       "</style>\n",
       "<table border=\"1\" class=\"dataframe\">\n",
       "  <thead>\n",
       "    <tr style=\"text-align: right;\">\n",
       "      <th></th>\n",
       "      <th>Regressors</th>\n",
       "      <th>R2 score</th>\n",
       "      <th>RMSE</th>\n",
       "    </tr>\n",
       "  </thead>\n",
       "  <tbody>\n",
       "    <tr>\n",
       "      <th>0</th>\n",
       "      <td>linear regression</td>\n",
       "      <td>0.675349</td>\n",
       "      <td>0.487203</td>\n",
       "    </tr>\n",
       "    <tr>\n",
       "      <th>1</th>\n",
       "      <td>SGD regressor</td>\n",
       "      <td>0.671002</td>\n",
       "      <td>0.490454</td>\n",
       "    </tr>\n",
       "    <tr>\n",
       "      <th>2</th>\n",
       "      <td>Decision Tree Regressor</td>\n",
       "      <td>0.617775</td>\n",
       "      <td>0.528641</td>\n",
       "    </tr>\n",
       "    <tr>\n",
       "      <th>3</th>\n",
       "      <td>Gradient boosting regressor</td>\n",
       "      <td>0.733838</td>\n",
       "      <td>0.441138</td>\n",
       "    </tr>\n",
       "    <tr>\n",
       "      <th>4</th>\n",
       "      <td>Random forest regressor</td>\n",
       "      <td>0.617799</td>\n",
       "      <td>0.528625</td>\n",
       "    </tr>\n",
       "    <tr>\n",
       "      <th>5</th>\n",
       "      <td>Ada boost regressor</td>\n",
       "      <td>0.588515</td>\n",
       "      <td>0.548502</td>\n",
       "    </tr>\n",
       "    <tr>\n",
       "      <th>6</th>\n",
       "      <td>XGBoost regressor</td>\n",
       "      <td>0.820556</td>\n",
       "      <td>0.362215</td>\n",
       "    </tr>\n",
       "  </tbody>\n",
       "</table>\n",
       "</div>"
      ],
      "text/plain": [
       "                    Regressors  R2 score      RMSE\n",
       "0            linear regression  0.675349  0.487203\n",
       "1                SGD regressor  0.671002  0.490454\n",
       "2      Decision Tree Regressor  0.617775  0.528641\n",
       "3  Gradient boosting regressor  0.733838  0.441138\n",
       "4      Random forest regressor  0.617799  0.528625\n",
       "5          Ada boost regressor  0.588515  0.548502\n",
       "6            XGBoost regressor  0.820556  0.362215"
      ]
     },
     "execution_count": 584,
     "metadata": {},
     "output_type": "execute_result"
    }
   ],
   "source": [
    "res_df"
   ]
  },
  {
   "cell_type": "code",
   "execution_count": 585,
   "id": "32d94caf",
   "metadata": {},
   "outputs": [
    {
     "data": {
      "text/html": [
       "<div>\n",
       "<style scoped>\n",
       "    .dataframe tbody tr th:only-of-type {\n",
       "        vertical-align: middle;\n",
       "    }\n",
       "\n",
       "    .dataframe tbody tr th {\n",
       "        vertical-align: top;\n",
       "    }\n",
       "\n",
       "    .dataframe thead th {\n",
       "        text-align: right;\n",
       "    }\n",
       "</style>\n",
       "<table border=\"1\" class=\"dataframe\">\n",
       "  <thead>\n",
       "    <tr style=\"text-align: right;\">\n",
       "      <th></th>\n",
       "      <th>Regressors</th>\n",
       "      <th>R2 score</th>\n",
       "      <th>RMSE</th>\n",
       "    </tr>\n",
       "  </thead>\n",
       "  <tbody>\n",
       "    <tr>\n",
       "      <th>6</th>\n",
       "      <td>XGBoost regressor</td>\n",
       "      <td>0.820556</td>\n",
       "      <td>0.362215</td>\n",
       "    </tr>\n",
       "  </tbody>\n",
       "</table>\n",
       "</div>"
      ],
      "text/plain": [
       "          Regressors  R2 score      RMSE\n",
       "6  XGBoost regressor  0.820556  0.362215"
      ]
     },
     "execution_count": 585,
     "metadata": {},
     "output_type": "execute_result"
    }
   ],
   "source": [
    "res_df.sort_values(by=['R2 score', 'RMSE'], ascending=[False, True]).head(1)"
   ]
  },
  {
   "cell_type": "code",
   "execution_count": 586,
   "id": "7d52c14e",
   "metadata": {},
   "outputs": [
    {
     "data": {
      "text/plain": [
       "Pipeline(steps=[('sfm', SelectFromModel(estimator=RandomForestRegressor())),\n",
       "                ('scaler', RobustScaler()),\n",
       "                ('regressor',\n",
       "                 XGBRegressor(base_score=0.5, booster='gbtree',\n",
       "                              colsample_bylevel=1, colsample_bynode=1,\n",
       "                              colsample_bytree=1, enable_categorical=False,\n",
       "                              gamma=0, gpu_id=-1, importance_type=None,\n",
       "                              interaction_constraints='',\n",
       "                              learning_rate=0.300000012, max_delta_step=0,\n",
       "                              max_depth=6, min_child_weight=1, missing=nan,\n",
       "                              monotone_constraints='()', n_estimators=100,\n",
       "                              n_jobs=16, num_parallel_tree=1, predictor='auto',\n",
       "                              random_state=0, reg_alpha=0, reg_lambda=1,\n",
       "                              scale_pos_weight=1, subsample=1,\n",
       "                              tree_method='exact', validate_parameters=1,\n",
       "                              verbosity=None))],\n",
       "         verbose=True)"
      ]
     },
     "execution_count": 586,
     "metadata": {},
     "output_type": "execute_result"
    }
   ],
   "source": [
    "best_model"
   ]
  },
  {
   "cell_type": "code",
   "execution_count": 587,
   "id": "090f594d",
   "metadata": {},
   "outputs": [
    {
     "name": "stdout",
     "output_type": "stream",
     "text": [
      "[Pipeline] ............... (step 1 of 3) Processing sfm, total= 9.5min\n",
      "[Pipeline] ............ (step 2 of 3) Processing scaler, total=   0.1s\n",
      "[Pipeline] ......... (step 3 of 3) Processing regressor, total=   2.1s\n"
     ]
    }
   ],
   "source": [
    "best_model.fit(X_train, y_train)\n",
    "y_pred = best_model.predict(X_test)"
   ]
  },
  {
   "cell_type": "code",
   "execution_count": 588,
   "id": "fe3257f4",
   "metadata": {},
   "outputs": [
    {
     "data": {
      "text/plain": [
       "<AxesSubplot:xlabel='price'>"
      ]
     },
     "execution_count": 588,
     "metadata": {},
     "output_type": "execute_result"
    },
    {
     "data": {
      "image/png": "[encoded data removed]",
      "text/plain": [
       "<Figure size 432x288 with 1 Axes>"
      ]
     },
     "metadata": {
      "needs_background": "light"
     },
     "output_type": "display_data"
    }
   ],
   "source": [
    "sns.scatterplot(x = y_test, y = y_pred)"
   ]
  },
  {
   "cell_type": "markdown",
   "id": "3cb222cd",
   "metadata": {},
   "source": [
    "### 9. Out of Sample Prediction"
   ]
  },
  {
   "cell_type": "markdown",
   "id": "91c28d0e",
   "metadata": {},
   "source": [
    "5% of the records of the dataset is arround 9000"
   ]
  },
  {
   "cell_type": "code",
   "execution_count": 589,
   "id": "b8f50b46",
   "metadata": {},
   "outputs": [
    {
     "data": {
      "text/html": [
       "<div>\n",
       "<style scoped>\n",
       "    .dataframe tbody tr th:only-of-type {\n",
       "        vertical-align: middle;\n",
       "    }\n",
       "\n",
       "    .dataframe tbody tr th {\n",
       "        vertical-align: top;\n",
       "    }\n",
       "\n",
       "    .dataframe thead th {\n",
       "        text-align: right;\n",
       "    }\n",
       "</style>\n",
       "<table border=\"1\" class=\"dataframe\">\n",
       "  <thead>\n",
       "    <tr style=\"text-align: right;\">\n",
       "      <th></th>\n",
       "      <th>price</th>\n",
       "      <th>year_built</th>\n",
       "      <th>big_improvement_year</th>\n",
       "      <th>street_10th ave e</th>\n",
       "      <th>street_10th ave w</th>\n",
       "      <th>street_11th ave e</th>\n",
       "      <th>street_11th ave w</th>\n",
       "      <th>street_12th ave e</th>\n",
       "      <th>street_12th ave w</th>\n",
       "      <th>street_13th ave e</th>\n",
       "      <th>...</th>\n",
       "      <th>zone_CD-1</th>\n",
       "      <th>zone_CWD</th>\n",
       "      <th>zone_DD</th>\n",
       "      <th>zone_DEOD</th>\n",
       "      <th>zone_FCCDD</th>\n",
       "      <th>zone_FSHCA</th>\n",
       "      <th>zone_HA</th>\n",
       "      <th>zone_I</th>\n",
       "      <th>zone_M</th>\n",
       "      <th>zone_RS</th>\n",
       "    </tr>\n",
       "  </thead>\n",
       "  <tbody>\n",
       "    <tr>\n",
       "      <th>208975</th>\n",
       "      <td>13.340697</td>\n",
       "      <td>7.608374</td>\n",
       "      <td>7.608374</td>\n",
       "      <td>0</td>\n",
       "      <td>0</td>\n",
       "      <td>0</td>\n",
       "      <td>0</td>\n",
       "      <td>0</td>\n",
       "      <td>0</td>\n",
       "      <td>0</td>\n",
       "      <td>...</td>\n",
       "      <td>1</td>\n",
       "      <td>0</td>\n",
       "      <td>0</td>\n",
       "      <td>0</td>\n",
       "      <td>0</td>\n",
       "      <td>0</td>\n",
       "      <td>0</td>\n",
       "      <td>0</td>\n",
       "      <td>0</td>\n",
       "      <td>0</td>\n",
       "    </tr>\n",
       "    <tr>\n",
       "      <th>47676</th>\n",
       "      <td>14.354924</td>\n",
       "      <td>7.589842</td>\n",
       "      <td>7.589842</td>\n",
       "      <td>0</td>\n",
       "      <td>0</td>\n",
       "      <td>0</td>\n",
       "      <td>0</td>\n",
       "      <td>0</td>\n",
       "      <td>0</td>\n",
       "      <td>0</td>\n",
       "      <td>...</td>\n",
       "      <td>0</td>\n",
       "      <td>0</td>\n",
       "      <td>0</td>\n",
       "      <td>0</td>\n",
       "      <td>0</td>\n",
       "      <td>0</td>\n",
       "      <td>0</td>\n",
       "      <td>0</td>\n",
       "      <td>0</td>\n",
       "      <td>1</td>\n",
       "    </tr>\n",
       "    <tr>\n",
       "      <th>60464</th>\n",
       "      <td>14.192577</td>\n",
       "      <td>7.590852</td>\n",
       "      <td>7.593878</td>\n",
       "      <td>0</td>\n",
       "      <td>0</td>\n",
       "      <td>0</td>\n",
       "      <td>0</td>\n",
       "      <td>0</td>\n",
       "      <td>0</td>\n",
       "      <td>0</td>\n",
       "      <td>...</td>\n",
       "      <td>0</td>\n",
       "      <td>0</td>\n",
       "      <td>0</td>\n",
       "      <td>0</td>\n",
       "      <td>0</td>\n",
       "      <td>0</td>\n",
       "      <td>0</td>\n",
       "      <td>0</td>\n",
       "      <td>0</td>\n",
       "      <td>1</td>\n",
       "    </tr>\n",
       "    <tr>\n",
       "      <th>28982</th>\n",
       "      <td>14.312643</td>\n",
       "      <td>7.577634</td>\n",
       "      <td>7.577634</td>\n",
       "      <td>0</td>\n",
       "      <td>0</td>\n",
       "      <td>0</td>\n",
       "      <td>0</td>\n",
       "      <td>0</td>\n",
       "      <td>0</td>\n",
       "      <td>0</td>\n",
       "      <td>...</td>\n",
       "      <td>0</td>\n",
       "      <td>0</td>\n",
       "      <td>0</td>\n",
       "      <td>0</td>\n",
       "      <td>0</td>\n",
       "      <td>0</td>\n",
       "      <td>0</td>\n",
       "      <td>0</td>\n",
       "      <td>0</td>\n",
       "      <td>1</td>\n",
       "    </tr>\n",
       "    <tr>\n",
       "      <th>113275</th>\n",
       "      <td>12.896719</td>\n",
       "      <td>7.606885</td>\n",
       "      <td>7.606885</td>\n",
       "      <td>0</td>\n",
       "      <td>0</td>\n",
       "      <td>0</td>\n",
       "      <td>0</td>\n",
       "      <td>0</td>\n",
       "      <td>0</td>\n",
       "      <td>0</td>\n",
       "      <td>...</td>\n",
       "      <td>0</td>\n",
       "      <td>0</td>\n",
       "      <td>1</td>\n",
       "      <td>0</td>\n",
       "      <td>0</td>\n",
       "      <td>0</td>\n",
       "      <td>0</td>\n",
       "      <td>0</td>\n",
       "      <td>0</td>\n",
       "      <td>0</td>\n",
       "    </tr>\n",
       "    <tr>\n",
       "      <th>...</th>\n",
       "      <td>...</td>\n",
       "      <td>...</td>\n",
       "      <td>...</td>\n",
       "      <td>...</td>\n",
       "      <td>...</td>\n",
       "      <td>...</td>\n",
       "      <td>...</td>\n",
       "      <td>...</td>\n",
       "      <td>...</td>\n",
       "      <td>...</td>\n",
       "      <td>...</td>\n",
       "      <td>...</td>\n",
       "      <td>...</td>\n",
       "      <td>...</td>\n",
       "      <td>...</td>\n",
       "      <td>...</td>\n",
       "      <td>...</td>\n",
       "      <td>...</td>\n",
       "      <td>...</td>\n",
       "      <td>...</td>\n",
       "      <td>...</td>\n",
       "    </tr>\n",
       "    <tr>\n",
       "      <th>112803</th>\n",
       "      <td>14.380825</td>\n",
       "      <td>7.610853</td>\n",
       "      <td>7.611348</td>\n",
       "      <td>0</td>\n",
       "      <td>0</td>\n",
       "      <td>0</td>\n",
       "      <td>0</td>\n",
       "      <td>0</td>\n",
       "      <td>0</td>\n",
       "      <td>0</td>\n",
       "      <td>...</td>\n",
       "      <td>0</td>\n",
       "      <td>0</td>\n",
       "      <td>0</td>\n",
       "      <td>0</td>\n",
       "      <td>0</td>\n",
       "      <td>0</td>\n",
       "      <td>0</td>\n",
       "      <td>0</td>\n",
       "      <td>0</td>\n",
       "      <td>1</td>\n",
       "    </tr>\n",
       "    <tr>\n",
       "      <th>54593</th>\n",
       "      <td>14.731802</td>\n",
       "      <td>7.607381</td>\n",
       "      <td>7.607878</td>\n",
       "      <td>0</td>\n",
       "      <td>0</td>\n",
       "      <td>0</td>\n",
       "      <td>0</td>\n",
       "      <td>0</td>\n",
       "      <td>0</td>\n",
       "      <td>0</td>\n",
       "      <td>...</td>\n",
       "      <td>0</td>\n",
       "      <td>0</td>\n",
       "      <td>0</td>\n",
       "      <td>0</td>\n",
       "      <td>0</td>\n",
       "      <td>0</td>\n",
       "      <td>0</td>\n",
       "      <td>0</td>\n",
       "      <td>0</td>\n",
       "      <td>1</td>\n",
       "    </tr>\n",
       "    <tr>\n",
       "      <th>118183</th>\n",
       "      <td>12.926351</td>\n",
       "      <td>7.600902</td>\n",
       "      <td>7.600902</td>\n",
       "      <td>0</td>\n",
       "      <td>0</td>\n",
       "      <td>0</td>\n",
       "      <td>0</td>\n",
       "      <td>0</td>\n",
       "      <td>0</td>\n",
       "      <td>0</td>\n",
       "      <td>...</td>\n",
       "      <td>1</td>\n",
       "      <td>0</td>\n",
       "      <td>0</td>\n",
       "      <td>0</td>\n",
       "      <td>0</td>\n",
       "      <td>0</td>\n",
       "      <td>0</td>\n",
       "      <td>0</td>\n",
       "      <td>0</td>\n",
       "      <td>0</td>\n",
       "    </tr>\n",
       "    <tr>\n",
       "      <th>75644</th>\n",
       "      <td>12.777055</td>\n",
       "      <td>7.591357</td>\n",
       "      <td>7.591862</td>\n",
       "      <td>0</td>\n",
       "      <td>0</td>\n",
       "      <td>0</td>\n",
       "      <td>0</td>\n",
       "      <td>0</td>\n",
       "      <td>0</td>\n",
       "      <td>0</td>\n",
       "      <td>...</td>\n",
       "      <td>0</td>\n",
       "      <td>0</td>\n",
       "      <td>0</td>\n",
       "      <td>0</td>\n",
       "      <td>0</td>\n",
       "      <td>0</td>\n",
       "      <td>0</td>\n",
       "      <td>0</td>\n",
       "      <td>0</td>\n",
       "      <td>1</td>\n",
       "    </tr>\n",
       "    <tr>\n",
       "      <th>207525</th>\n",
       "      <td>14.087826</td>\n",
       "      <td>7.605392</td>\n",
       "      <td>7.605392</td>\n",
       "      <td>0</td>\n",
       "      <td>0</td>\n",
       "      <td>0</td>\n",
       "      <td>0</td>\n",
       "      <td>0</td>\n",
       "      <td>0</td>\n",
       "      <td>0</td>\n",
       "      <td>...</td>\n",
       "      <td>0</td>\n",
       "      <td>0</td>\n",
       "      <td>0</td>\n",
       "      <td>0</td>\n",
       "      <td>0</td>\n",
       "      <td>0</td>\n",
       "      <td>0</td>\n",
       "      <td>0</td>\n",
       "      <td>0</td>\n",
       "      <td>1</td>\n",
       "    </tr>\n",
       "  </tbody>\n",
       "</table>\n",
       "<p>9000 rows × 442 columns</p>\n",
       "</div>"
      ],
      "text/plain": [
       "            price  year_built  big_improvement_year  street_10th ave e  \\\n",
       "208975  13.340697    7.608374              7.608374                  0   \n",
       "47676   14.354924    7.589842              7.589842                  0   \n",
       "60464   14.192577    7.590852              7.593878                  0   \n",
       "28982   14.312643    7.577634              7.577634                  0   \n",
       "113275  12.896719    7.606885              7.606885                  0   \n",
       "...           ...         ...                   ...                ...   \n",
       "112803  14.380825    7.610853              7.611348                  0   \n",
       "54593   14.731802    7.607381              7.607878                  0   \n",
       "118183  12.926351    7.600902              7.600902                  0   \n",
       "75644   12.777055    7.591357              7.591862                  0   \n",
       "207525  14.087826    7.605392              7.605392                  0   \n",
       "\n",
       "        street_10th ave w  street_11th ave e  street_11th ave w  \\\n",
       "208975                  0                  0                  0   \n",
       "47676                   0                  0                  0   \n",
       "60464                   0                  0                  0   \n",
       "28982                   0                  0                  0   \n",
       "113275                  0                  0                  0   \n",
       "...                   ...                ...                ...   \n",
       "112803                  0                  0                  0   \n",
       "54593                   0                  0                  0   \n",
       "118183                  0                  0                  0   \n",
       "75644                   0                  0                  0   \n",
       "207525                  0                  0                  0   \n",
       "\n",
       "        street_12th ave e  street_12th ave w  street_13th ave e  ...  \\\n",
       "208975                  0                  0                  0  ...   \n",
       "47676                   0                  0                  0  ...   \n",
       "60464                   0                  0                  0  ...   \n",
       "28982                   0                  0                  0  ...   \n",
       "113275                  0                  0                  0  ...   \n",
       "...                   ...                ...                ...  ...   \n",
       "112803                  0                  0                  0  ...   \n",
       "54593                   0                  0                  0  ...   \n",
       "118183                  0                  0                  0  ...   \n",
       "75644                   0                  0                  0  ...   \n",
       "207525                  0                  0                  0  ...   \n",
       "\n",
       "        zone_CD-1  zone_CWD  zone_DD  zone_DEOD  zone_FCCDD  zone_FSHCA  \\\n",
       "208975          1         0        0          0           0           0   \n",
       "47676           0         0        0          0           0           0   \n",
       "60464           0         0        0          0           0           0   \n",
       "28982           0         0        0          0           0           0   \n",
       "113275          0         0        1          0           0           0   \n",
       "...           ...       ...      ...        ...         ...         ...   \n",
       "112803          0         0        0          0           0           0   \n",
       "54593           0         0        0          0           0           0   \n",
       "118183          1         0        0          0           0           0   \n",
       "75644           0         0        0          0           0           0   \n",
       "207525          0         0        0          0           0           0   \n",
       "\n",
       "        zone_HA  zone_I  zone_M  zone_RS  \n",
       "208975        0       0       0        0  \n",
       "47676         0       0       0        1  \n",
       "60464         0       0       0        1  \n",
       "28982         0       0       0        1  \n",
       "113275        0       0       0        0  \n",
       "...         ...     ...     ...      ...  \n",
       "112803        0       0       0        1  \n",
       "54593         0       0       0        1  \n",
       "118183        0       0       0        0  \n",
       "75644         0       0       0        1  \n",
       "207525        0       0       0        1  \n",
       "\n",
       "[9000 rows x 442 columns]"
      ]
     },
     "execution_count": 589,
     "metadata": {},
     "output_type": "execute_result"
    }
   ],
   "source": [
    "df_random = log_df.sample(n=9000)\n",
    "df_random"
   ]
  },
  {
   "cell_type": "code",
   "execution_count": 590,
   "id": "a16a637b",
   "metadata": {},
   "outputs": [],
   "source": [
    "feat_random = df_random.drop(columns = [\"price\"])\n",
    "target_random = df_random.filter([\"price\"])"
   ]
  },
  {
   "cell_type": "code",
   "execution_count": 591,
   "id": "7d88aef1",
   "metadata": {},
   "outputs": [
    {
     "name": "stderr",
     "output_type": "stream",
     "text": [
      "C:\\Users\\dimit\\anaconda3\\lib\\site-packages\\sklearn\\feature_selection\\_from_model.py:235: DataConversionWarning: A column-vector y was passed when a 1d array was expected. Please change the shape of y to (n_samples,), for example using ravel().\n",
      "  self.estimator_.fit(X, y, **fit_params)\n"
     ]
    },
    {
     "name": "stdout",
     "output_type": "stream",
     "text": [
      "[Pipeline] ............... (step 1 of 3) Processing sfm, total=  15.2s\n",
      "[Pipeline] ............ (step 2 of 3) Processing scaler, total=   0.0s\n",
      "[Pipeline] ......... (step 3 of 3) Processing regressor, total=   0.2s\n"
     ]
    }
   ],
   "source": [
    "X_train, X_test, y_train, y_test = train_test_split(feat_random, target_random, test_size=0.3, random_state=42)\n",
    "best_model.fit(X_train, y_train)\n",
    "y_pred = best_model.predict(X_test)"
   ]
  },
  {
   "cell_type": "code",
   "execution_count": 592,
   "id": "51524c9f",
   "metadata": {},
   "outputs": [
    {
     "data": {
      "image/png": "[encoded data removed]",
      "text/plain": [
       "<Figure size 432x288 with 1 Axes>"
      ]
     },
     "metadata": {
      "needs_background": "light"
     },
     "output_type": "display_data"
    }
   ],
   "source": [
    "plt.scatter(y_test, y_pred, alpha = 1, color = 'g')\n",
    "plt.xlabel(\"Actual price\")\n",
    "plt.ylabel(\"Predicted price\")\n",
    "plt.title(\"XGBoost regressor Model\")\n",
    "plt.show()"
   ]
  }
 ],
 "metadata": {
  "kernelspec": {
   "display_name": "Python 3 (ipykernel)",
   "language": "python",
   "name": "python3"
  },
  "language_info": {
   "codemirror_mode": {
    "name": "ipython",
    "version": 3
   },
   "file_extension": ".py",
   "mimetype": "text/x-python",
   "name": "python",
   "nbconvert_exporter": "python",
   "pygments_lexer": "ipython3",
   "version": "3.9.7"
  }
 },
 "nbformat": 4,
 "nbformat_minor": 5
}
